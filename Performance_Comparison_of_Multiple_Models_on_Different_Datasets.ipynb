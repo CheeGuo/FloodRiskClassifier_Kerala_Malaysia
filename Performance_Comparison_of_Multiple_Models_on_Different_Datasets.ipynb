{
  "nbformat": 4,
  "nbformat_minor": 0,
  "metadata": {
    "colab": {
      "provenance": [],
      "toc_visible": true
    },
    "kernelspec": {
      "name": "python3",
      "display_name": "Python 3"
    },
    "language_info": {
      "name": "python"
    }
  },
  "cells": [
    {
      "cell_type": "markdown",
      "source": [
        "#Performance Comparison of Multiple Models on Different Datasets"
      ],
      "metadata": {
        "id": "xru6BPhrq-0n"
      }
    },
    {
      "cell_type": "markdown",
      "source": [
        "source:https://github.com/Lexuz17/Kerala_Flood_Classification_Prediction.git"
      ],
      "metadata": {
        "id": "KlbH92L-WXWO"
      }
    },
    {
      "cell_type": "code",
      "execution_count": 1,
      "metadata": {
        "id": "9jJ9uxyEqPOj"
      },
      "outputs": [],
      "source": [
        "# Import standard packages\n",
        "import numpy as np\n",
        "import pandas as pd\n",
        "import joblib\n",
        "\n",
        "# Import libraries for visualization\n",
        "import matplotlib.pyplot as plt\n",
        "import seaborn as sns\n",
        "\n",
        "# Display matplotlib plots inline\n",
        "%matplotlib inline\n",
        "\n",
        "# For classification models\n",
        "from sklearn import preprocessing, neighbors\n",
        "from sklearn.model_selection import train_test_split\n",
        "from sklearn.linear_model import LogisticRegression\n",
        "from sklearn.svm import SVC\n",
        "from sklearn.tree import DecisionTreeClassifier\n",
        "from sklearn.ensemble import RandomForestClassifier, VotingClassifier\n",
        "from sklearn.neighbors import KNeighborsClassifier\n",
        "from sklearn.naive_bayes import BernoulliNB\n",
        "from sklearn.preprocessing import Binarizer, StandardScaler, MinMaxScaler\n",
        "from sklearn.pipeline import Pipeline\n",
        "\n",
        "# For model evaluation\n",
        "from sklearn.model_selection import cross_val_score\n",
        "from sklearn.metrics import accuracy_score, recall_score, roc_auc_score, confusion_matrix\n",
        "from imblearn.over_sampling import SMOTE"
      ]
    },
    {
      "cell_type": "markdown",
      "source": [
        "Upload the 'kerala.csv' and 'malaysia.csv'"
      ],
      "metadata": {
        "id": "fEIf9T6esxpJ"
      }
    },
    {
      "cell_type": "code",
      "source": [
        "from google.colab import files\n",
        "uploaded = files.upload()"
      ],
      "metadata": {
        "id": "BchIPjjvss-W",
        "colab": {
          "base_uri": "https://localhost:8080/",
          "height": 107
        },
        "outputId": "9e5bec93-b552-44a6-8793-fa7e4a9be249"
      },
      "execution_count": 2,
      "outputs": [
        {
          "output_type": "display_data",
          "data": {
            "text/plain": [
              "<IPython.core.display.HTML object>"
            ],
            "text/html": [
              "\n",
              "     <input type=\"file\" id=\"files-a9368c45-6932-46e6-9a41-7357c6b2adad\" name=\"files[]\" multiple disabled\n",
              "        style=\"border:none\" />\n",
              "     <output id=\"result-a9368c45-6932-46e6-9a41-7357c6b2adad\">\n",
              "      Upload widget is only available when the cell has been executed in the\n",
              "      current browser session. Please rerun this cell to enable.\n",
              "      </output>\n",
              "      <script>// Copyright 2017 Google LLC\n",
              "//\n",
              "// Licensed under the Apache License, Version 2.0 (the \"License\");\n",
              "// you may not use this file except in compliance with the License.\n",
              "// You may obtain a copy of the License at\n",
              "//\n",
              "//      http://www.apache.org/licenses/LICENSE-2.0\n",
              "//\n",
              "// Unless required by applicable law or agreed to in writing, software\n",
              "// distributed under the License is distributed on an \"AS IS\" BASIS,\n",
              "// WITHOUT WARRANTIES OR CONDITIONS OF ANY KIND, either express or implied.\n",
              "// See the License for the specific language governing permissions and\n",
              "// limitations under the License.\n",
              "\n",
              "/**\n",
              " * @fileoverview Helpers for google.colab Python module.\n",
              " */\n",
              "(function(scope) {\n",
              "function span(text, styleAttributes = {}) {\n",
              "  const element = document.createElement('span');\n",
              "  element.textContent = text;\n",
              "  for (const key of Object.keys(styleAttributes)) {\n",
              "    element.style[key] = styleAttributes[key];\n",
              "  }\n",
              "  return element;\n",
              "}\n",
              "\n",
              "// Max number of bytes which will be uploaded at a time.\n",
              "const MAX_PAYLOAD_SIZE = 100 * 1024;\n",
              "\n",
              "function _uploadFiles(inputId, outputId) {\n",
              "  const steps = uploadFilesStep(inputId, outputId);\n",
              "  const outputElement = document.getElementById(outputId);\n",
              "  // Cache steps on the outputElement to make it available for the next call\n",
              "  // to uploadFilesContinue from Python.\n",
              "  outputElement.steps = steps;\n",
              "\n",
              "  return _uploadFilesContinue(outputId);\n",
              "}\n",
              "\n",
              "// This is roughly an async generator (not supported in the browser yet),\n",
              "// where there are multiple asynchronous steps and the Python side is going\n",
              "// to poll for completion of each step.\n",
              "// This uses a Promise to block the python side on completion of each step,\n",
              "// then passes the result of the previous step as the input to the next step.\n",
              "function _uploadFilesContinue(outputId) {\n",
              "  const outputElement = document.getElementById(outputId);\n",
              "  const steps = outputElement.steps;\n",
              "\n",
              "  const next = steps.next(outputElement.lastPromiseValue);\n",
              "  return Promise.resolve(next.value.promise).then((value) => {\n",
              "    // Cache the last promise value to make it available to the next\n",
              "    // step of the generator.\n",
              "    outputElement.lastPromiseValue = value;\n",
              "    return next.value.response;\n",
              "  });\n",
              "}\n",
              "\n",
              "/**\n",
              " * Generator function which is called between each async step of the upload\n",
              " * process.\n",
              " * @param {string} inputId Element ID of the input file picker element.\n",
              " * @param {string} outputId Element ID of the output display.\n",
              " * @return {!Iterable<!Object>} Iterable of next steps.\n",
              " */\n",
              "function* uploadFilesStep(inputId, outputId) {\n",
              "  const inputElement = document.getElementById(inputId);\n",
              "  inputElement.disabled = false;\n",
              "\n",
              "  const outputElement = document.getElementById(outputId);\n",
              "  outputElement.innerHTML = '';\n",
              "\n",
              "  const pickedPromise = new Promise((resolve) => {\n",
              "    inputElement.addEventListener('change', (e) => {\n",
              "      resolve(e.target.files);\n",
              "    });\n",
              "  });\n",
              "\n",
              "  const cancel = document.createElement('button');\n",
              "  inputElement.parentElement.appendChild(cancel);\n",
              "  cancel.textContent = 'Cancel upload';\n",
              "  const cancelPromise = new Promise((resolve) => {\n",
              "    cancel.onclick = () => {\n",
              "      resolve(null);\n",
              "    };\n",
              "  });\n",
              "\n",
              "  // Wait for the user to pick the files.\n",
              "  const files = yield {\n",
              "    promise: Promise.race([pickedPromise, cancelPromise]),\n",
              "    response: {\n",
              "      action: 'starting',\n",
              "    }\n",
              "  };\n",
              "\n",
              "  cancel.remove();\n",
              "\n",
              "  // Disable the input element since further picks are not allowed.\n",
              "  inputElement.disabled = true;\n",
              "\n",
              "  if (!files) {\n",
              "    return {\n",
              "      response: {\n",
              "        action: 'complete',\n",
              "      }\n",
              "    };\n",
              "  }\n",
              "\n",
              "  for (const file of files) {\n",
              "    const li = document.createElement('li');\n",
              "    li.append(span(file.name, {fontWeight: 'bold'}));\n",
              "    li.append(span(\n",
              "        `(${file.type || 'n/a'}) - ${file.size} bytes, ` +\n",
              "        `last modified: ${\n",
              "            file.lastModifiedDate ? file.lastModifiedDate.toLocaleDateString() :\n",
              "                                    'n/a'} - `));\n",
              "    const percent = span('0% done');\n",
              "    li.appendChild(percent);\n",
              "\n",
              "    outputElement.appendChild(li);\n",
              "\n",
              "    const fileDataPromise = new Promise((resolve) => {\n",
              "      const reader = new FileReader();\n",
              "      reader.onload = (e) => {\n",
              "        resolve(e.target.result);\n",
              "      };\n",
              "      reader.readAsArrayBuffer(file);\n",
              "    });\n",
              "    // Wait for the data to be ready.\n",
              "    let fileData = yield {\n",
              "      promise: fileDataPromise,\n",
              "      response: {\n",
              "        action: 'continue',\n",
              "      }\n",
              "    };\n",
              "\n",
              "    // Use a chunked sending to avoid message size limits. See b/62115660.\n",
              "    let position = 0;\n",
              "    do {\n",
              "      const length = Math.min(fileData.byteLength - position, MAX_PAYLOAD_SIZE);\n",
              "      const chunk = new Uint8Array(fileData, position, length);\n",
              "      position += length;\n",
              "\n",
              "      const base64 = btoa(String.fromCharCode.apply(null, chunk));\n",
              "      yield {\n",
              "        response: {\n",
              "          action: 'append',\n",
              "          file: file.name,\n",
              "          data: base64,\n",
              "        },\n",
              "      };\n",
              "\n",
              "      let percentDone = fileData.byteLength === 0 ?\n",
              "          100 :\n",
              "          Math.round((position / fileData.byteLength) * 100);\n",
              "      percent.textContent = `${percentDone}% done`;\n",
              "\n",
              "    } while (position < fileData.byteLength);\n",
              "  }\n",
              "\n",
              "  // All done.\n",
              "  yield {\n",
              "    response: {\n",
              "      action: 'complete',\n",
              "    }\n",
              "  };\n",
              "}\n",
              "\n",
              "scope.google = scope.google || {};\n",
              "scope.google.colab = scope.google.colab || {};\n",
              "scope.google.colab._files = {\n",
              "  _uploadFiles,\n",
              "  _uploadFilesContinue,\n",
              "};\n",
              "})(self);\n",
              "</script> "
            ]
          },
          "metadata": {}
        },
        {
          "output_type": "stream",
          "name": "stdout",
          "text": [
            "Saving kerala.csv to kerala.csv\n",
            "Saving malaysia.csv to malaysia.csv\n"
          ]
        }
      ]
    },
    {
      "cell_type": "code",
      "source": [
        "# Prepare the 'kerala.csv' and 'malaysia.csv' datasets into a dataframe using pandas\n",
        "floodData = pd.read_csv('kerala.csv')\n",
        "mlsData = pd.read_csv('malaysia.csv')"
      ],
      "metadata": {
        "id": "MAOmSvqjszxF"
      },
      "execution_count": 3,
      "outputs": []
    },
    {
      "cell_type": "code",
      "source": [
        "# Perform label encoding to change the value yes to 1 and the value no to 0, so that it is easier to use for data analysis or modeling.\n",
        "floodData['FLOODS'] = floodData['FLOODS'].replace({'YES': 1, 'NO': 0})\n",
        "floodData = floodData.infer_objects(copy=False)"
      ],
      "metadata": {
        "id": "25sPwqros6E5",
        "colab": {
          "base_uri": "https://localhost:8080/"
        },
        "outputId": "1f4cc5b3-f099-4afc-8420-ccca79384b6d"
      },
      "execution_count": 4,
      "outputs": [
        {
          "output_type": "stream",
          "name": "stderr",
          "text": [
            "<ipython-input-4-130289939>:2: FutureWarning: Downcasting behavior in `replace` is deprecated and will be removed in a future version. To retain the old behavior, explicitly call `result.infer_objects(copy=False)`. To opt-in to the future behavior, set `pd.set_option('future.no_silent_downcasting', True)`\n",
            "  floodData['FLOODS'] = floodData['FLOODS'].replace({'YES': 1, 'NO': 0})\n"
          ]
        }
      ]
    },
    {
      "cell_type": "code",
      "source": [
        "# Remove all unnecessary spaces from the column names\n",
        "floodData.columns = floodData.columns.str.strip()\n",
        "print(floodData.columns)\n",
        "\n",
        "mlsData.columns = mlsData.columns.str.strip()\n",
        "print(mlsData.columns)"
      ],
      "metadata": {
        "colab": {
          "base_uri": "https://localhost:8080/"
        },
        "id": "wzmo7Tp-Y3Pq",
        "outputId": "eb78a951-d974-4705-8979-b3f28d06be01"
      },
      "execution_count": 5,
      "outputs": [
        {
          "output_type": "stream",
          "name": "stdout",
          "text": [
            "Index(['SUBDIVISION', 'YEAR', 'JAN', 'FEB', 'MAR', 'APR', 'MAY', 'JUN', 'JUL',\n",
            "       'AUG', 'SEP', 'OCT', 'NOV', 'DEC', 'ANNUAL RAINFALL', 'FLOODS'],\n",
            "      dtype='object')\n",
            "Index(['STATE', 'DISTRICT', 'YEAR', 'JAN', 'FEB', 'MAR', 'APR', 'MAY', 'JUN',\n",
            "       'JUL', 'AUG', 'SEP', 'OCT', 'NOV', 'DEC', 'ANNUAL RAINFALL', 'FLOOD'],\n",
            "      dtype='object')\n"
          ]
        }
      ]
    },
    {
      "cell_type": "code",
      "source": [
        "# Standardize column name in Kerala dataset to match\n",
        "mlsData = mlsData.rename(columns={'FLOOD': 'FLOODS'})"
      ],
      "metadata": {
        "id": "8dYeaegDZDUJ"
      },
      "execution_count": 6,
      "outputs": []
    },
    {
      "cell_type": "markdown",
      "source": [
        "#Number of flood and no-flood cases recorded"
      ],
      "metadata": {
        "id": "Kea9t8uAZe5x"
      }
    },
    {
      "cell_type": "code",
      "source": [
        "# Count values\n",
        "kerala_counts = floodData['FLOODS'].value_counts()\n",
        "malaysia_counts = mlsData['FLOODS'].value_counts()\n",
        "\n",
        "# Create a figure and axis\n",
        "fig, ax = plt.subplots(figsize=(8, 6))\n",
        "\n",
        "# Set the bar width\n",
        "width = 0.20  # Bar width\n",
        "index = [0, 1]  # Flood occurrence values (0 = NO, 1 = YES)\n",
        "\n",
        "# Plot the bar charts for both Kerala and Malaysia\n",
        "ax.bar([i - width/2 for i in index], kerala_counts.values, width, label='Kerala', color='red')\n",
        "ax.bar([i + width/2 for i in index], malaysia_counts.values, width, label='Malaysia', color='green')\n",
        "\n",
        "# Add labels and title\n",
        "ax.set_xlabel('FLOODS')\n",
        "ax.set_ylabel('Count')\n",
        "ax.set_title('Flood Occurrence Comparison between Kerala and Malaysia (0 = NO, 1 = YES)')\n",
        "ax.set_xticks(index)\n",
        "ax.set_xticklabels(['NO', 'YES'])\n",
        "ax.legend()\n",
        "\n",
        "# Add text annotations on top of the bars\n",
        "for i, count in enumerate(kerala_counts.values):\n",
        "    ax.text(i - width/2, count + 0.5, str(count), ha='center', va='bottom')\n",
        "\n",
        "for i, count in enumerate(malaysia_counts.values):\n",
        "    ax.text(i + width/2, count + 0.5, str(count), ha='center', va='bottom')\n",
        "\n",
        "# Show the plot\n",
        "plt.show()"
      ],
      "metadata": {
        "colab": {
          "base_uri": "https://localhost:8080/",
          "height": 564
        },
        "id": "VeJr8JbIZirh",
        "outputId": "bc27c831-a1ae-41a9-819a-016bbe9fb004"
      },
      "execution_count": 7,
      "outputs": [
        {
          "output_type": "display_data",
          "data": {
            "text/plain": [
              "<Figure size 800x600 with 1 Axes>"
            ],
            "image/png": "[encoded data removed]"
          },
          "metadata": {}
        }
      ]
    },
    {
      "cell_type": "markdown",
      "source": [
        "The plot of the number of floods and non-floods each year reveals that the data is complete and **relatively balanced**, with 60 flood data and 58 non-flood data for Kerala dataset. However, the Malaysia dataset is **imbalanced**, with a significant difference between the number of flood and non-flood records. Therefore, **SMOTE (Synthetic Minority Over-sampling Technique**) will be applied to the training data to address this imbalance before model training."
      ],
      "metadata": {
        "id": "qzLN1cf2ZuI5"
      }
    },
    {
      "cell_type": "markdown",
      "source": [
        "#Combine dataset\n",
        "\n",
        "\n",
        "\n"
      ],
      "metadata": {
        "id": "TVbjbbSJcU-z"
      }
    },
    {
      "cell_type": "code",
      "source": [
        "# Deleting the STATE and DISTRICT column\n",
        "mlsData2 = mlsData.drop(columns=['STATE', 'DISTRICT'])\n",
        "\n",
        "# Deleting the SUBDIVISION column to search for the corr heatmap\n",
        "floodData2 = floodData.drop('SUBDIVISION', axis = 1)"
      ],
      "metadata": {
        "id": "zwitx8T2cxd4"
      },
      "execution_count": 8,
      "outputs": []
    },
    {
      "cell_type": "code",
      "source": [
        "# Add Location column to mark the dataset source\n",
        "floodData2['Location'] = 'Kerala'\n",
        "mlsData2['Location'] = 'Malaysia'"
      ],
      "metadata": {
        "id": "pMP5H20IorQz"
      },
      "execution_count": 9,
      "outputs": []
    },
    {
      "cell_type": "code",
      "source": [
        "# Combine the datasets\n",
        "combined_data = pd.concat([floodData2, mlsData2], axis=0)"
      ],
      "metadata": {
        "id": "_423blDS3wsY"
      },
      "execution_count": 10,
      "outputs": []
    },
    {
      "cell_type": "code",
      "source": [
        "# Ensuring that there is no null data\n",
        "combined_data.isnull().sum()\n",
        "# Ensuring that there is no Not a Number (NaN) data\n",
        "combined_data.isna().any()"
      ],
      "metadata": {
        "id": "QYI9gMUh320_",
        "colab": {
          "base_uri": "https://localhost:8080/",
          "height": 586
        },
        "outputId": "0d2d31f6-c33f-4d5c-b3a8-92cf7de074ed"
      },
      "execution_count": 11,
      "outputs": [
        {
          "output_type": "execute_result",
          "data": {
            "text/plain": [
              "YEAR               False\n",
              "JAN                False\n",
              "FEB                False\n",
              "MAR                False\n",
              "APR                False\n",
              "MAY                False\n",
              "JUN                False\n",
              "JUL                False\n",
              "AUG                False\n",
              "SEP                False\n",
              "OCT                False\n",
              "NOV                False\n",
              "DEC                False\n",
              "ANNUAL RAINFALL    False\n",
              "FLOODS             False\n",
              "Location           False\n",
              "dtype: bool"
            ],
            "text/html": [
              "<div>\n",
              "<style scoped>\n",
              "    .dataframe tbody tr th:only-of-type {\n",
              "        vertical-align: middle;\n",
              "    }\n",
              "\n",
              "    .dataframe tbody tr th {\n",
              "        vertical-align: top;\n",
              "    }\n",
              "\n",
              "    .dataframe thead th {\n",
              "        text-align: right;\n",
              "    }\n",
              "</style>\n",
              "<table border=\"1\" class=\"dataframe\">\n",
              "  <thead>\n",
              "    <tr style=\"text-align: right;\">\n",
              "      <th></th>\n",
              "      <th>0</th>\n",
              "    </tr>\n",
              "  </thead>\n",
              "  <tbody>\n",
              "    <tr>\n",
              "      <th>YEAR</th>\n",
              "      <td>False</td>\n",
              "    </tr>\n",
              "    <tr>\n",
              "      <th>JAN</th>\n",
              "      <td>False</td>\n",
              "    </tr>\n",
              "    <tr>\n",
              "      <th>FEB</th>\n",
              "      <td>False</td>\n",
              "    </tr>\n",
              "    <tr>\n",
              "      <th>MAR</th>\n",
              "      <td>False</td>\n",
              "    </tr>\n",
              "    <tr>\n",
              "      <th>APR</th>\n",
              "      <td>False</td>\n",
              "    </tr>\n",
              "    <tr>\n",
              "      <th>MAY</th>\n",
              "      <td>False</td>\n",
              "    </tr>\n",
              "    <tr>\n",
              "      <th>JUN</th>\n",
              "      <td>False</td>\n",
              "    </tr>\n",
              "    <tr>\n",
              "      <th>JUL</th>\n",
              "      <td>False</td>\n",
              "    </tr>\n",
              "    <tr>\n",
              "      <th>AUG</th>\n",
              "      <td>False</td>\n",
              "    </tr>\n",
              "    <tr>\n",
              "      <th>SEP</th>\n",
              "      <td>False</td>\n",
              "    </tr>\n",
              "    <tr>\n",
              "      <th>OCT</th>\n",
              "      <td>False</td>\n",
              "    </tr>\n",
              "    <tr>\n",
              "      <th>NOV</th>\n",
              "      <td>False</td>\n",
              "    </tr>\n",
              "    <tr>\n",
              "      <th>DEC</th>\n",
              "      <td>False</td>\n",
              "    </tr>\n",
              "    <tr>\n",
              "      <th>ANNUAL RAINFALL</th>\n",
              "      <td>False</td>\n",
              "    </tr>\n",
              "    <tr>\n",
              "      <th>FLOODS</th>\n",
              "      <td>False</td>\n",
              "    </tr>\n",
              "    <tr>\n",
              "      <th>Location</th>\n",
              "      <td>False</td>\n",
              "    </tr>\n",
              "  </tbody>\n",
              "</table>\n",
              "</div><br><label><b>dtype:</b> bool</label>"
            ]
          },
          "metadata": {},
          "execution_count": 11
        }
      ]
    },
    {
      "cell_type": "code",
      "source": [
        "# Convert 'Location' into numeric columns (e.g., Location_Kerala, Location_Malaysia)\n",
        "combined_data_encoded = pd.get_dummies(combined_data, columns=['Location'], drop_first=True)\n",
        "print(combined_data_encoded)"
      ],
      "metadata": {
        "id": "khVoHTkQaOBx",
        "colab": {
          "base_uri": "https://localhost:8080/"
        },
        "outputId": "38c7740c-53fc-43e7-8e60-1d8372ecd090"
      },
      "execution_count": 12,
      "outputs": [
        {
          "output_type": "stream",
          "name": "stdout",
          "text": [
            "     YEAR     JAN     FEB     MAR     APR     MAY      JUN      JUL     AUG  \\\n",
            "0    1901   28.70   44.70   51.60  160.00  174.70   824.60   743.00  357.50   \n",
            "1    1902    6.70    2.60   57.30   83.90  134.50   390.90  1205.00  315.80   \n",
            "2    1903    3.20   18.60    3.10   83.60  249.70   558.60  1022.50  420.20   \n",
            "3    1904   23.70    3.00   32.20   71.50  235.70  1098.20   725.50  351.80   \n",
            "4    1905    1.20   22.30    9.40  105.90  263.30   850.20   520.50  293.60   \n",
            "..    ...     ...     ...     ...     ...     ...      ...      ...     ...   \n",
            "820  2006  319.70  427.23  196.89  255.44  247.38   235.60   113.64  188.40   \n",
            "821  2007  525.34  278.92  189.47  202.96  231.20   393.88   302.34  162.90   \n",
            "822  2008  410.77  283.12  372.34  231.40  222.25   239.34   200.40  310.88   \n",
            "823  2009  726.05  272.96  254.93  280.74  203.49   186.64   133.75  198.65   \n",
            "824  2010  545.47  211.71  237.34  187.18  278.18   198.32   370.80  327.32   \n",
            "\n",
            "        SEP     OCT     NOV     DEC  ANNUAL RAINFALL  FLOODS  \\\n",
            "0    197.70  266.90  350.80   48.40          3248.60       1   \n",
            "1    491.60  358.40  158.30  121.50          3326.60       1   \n",
            "2    341.80  354.10  157.00   59.00          3271.20       1   \n",
            "3    222.70  328.10   33.90    3.30          3129.70       1   \n",
            "4    217.20  383.50   74.40    0.20          2741.60       0   \n",
            "..      ...     ...     ...     ...              ...     ...   \n",
            "820  269.68  188.49  218.08  441.15          3101.68       1   \n",
            "821  276.26  305.13  363.68  584.69          3816.78       1   \n",
            "822  241.40  421.69  399.36  545.99          3878.95       1   \n",
            "823  140.22  403.83  378.94  373.48          3553.69       1   \n",
            "824  347.95  340.74  299.20  328.63          3672.85       0   \n",
            "\n",
            "     Location_Malaysia  \n",
            "0                False  \n",
            "1                False  \n",
            "2                False  \n",
            "3                False  \n",
            "4                False  \n",
            "..                 ...  \n",
            "820               True  \n",
            "821               True  \n",
            "822               True  \n",
            "823               True  \n",
            "824               True  \n",
            "\n",
            "[943 rows x 16 columns]\n"
          ]
        }
      ]
    },
    {
      "cell_type": "markdown",
      "source": [
        "#Splitting data for Kerala"
      ],
      "metadata": {
        "id": "T1vtDgUk386_"
      }
    },
    {
      "cell_type": "code",
      "source": [
        "# Kerala data (Location_Malaysia == 0)\n",
        "kerala_data = combined_data_encoded[combined_data_encoded['Location_Malaysia'] == 0]\n",
        "# Malaysia data (Location_Malaysia == 1)\n",
        "malaysia_data = combined_data_encoded[combined_data_encoded['Location_Malaysia'] == 1]"
      ],
      "metadata": {
        "id": "c17qquH835o_"
      },
      "execution_count": 13,
      "outputs": []
    },
    {
      "cell_type": "markdown",
      "source": [
        "Modified: We use label-based selection for splitting label and features instead of position-based selection."
      ],
      "metadata": {
        "id": "bZc6qHuaW-Be"
      }
    },
    {
      "cell_type": "code",
      "source": [
        "# For Kerala dataset,x is feature where y is label\n",
        "X = kerala_data.drop('FLOODS', axis=1)\n",
        "y = kerala_data['FLOODS']\n",
        "\n",
        "# Train-test split for Kerala\n",
        "X_train, X_test, y_train, y_test = train_test_split(X, y, test_size=0.25, random_state=42)\n",
        "\n",
        "# Check the shape of x_train and x_test\n",
        "print(\"X_train shape =\", X_train.shape)\n",
        "print(\"X_test shape =\", X_test.shape)\n",
        "\n",
        "# The data is well-separated with 94 and 24 samples, which total to 118 samples, which is the same as the original dataset."
      ],
      "metadata": {
        "id": "PZ2Qs3Ya4v3c",
        "colab": {
          "base_uri": "https://localhost:8080/"
        },
        "outputId": "cd90edf0-4e2c-4c86-e179-be98a7f73043"
      },
      "execution_count": 14,
      "outputs": [
        {
          "output_type": "stream",
          "name": "stdout",
          "text": [
            "X_train shape = (88, 15)\n",
            "X_test shape = (30, 15)\n"
          ]
        }
      ]
    },
    {
      "cell_type": "markdown",
      "source": [
        "#Splitting data for Malaysia"
      ],
      "metadata": {
        "id": "PnAXMeTbJYIp"
      }
    },
    {
      "cell_type": "code",
      "source": [
        "# For Malaysia dataset\n",
        "X_malaysia = malaysia_data.drop('FLOODS', axis=1)\n",
        "y_malaysia = malaysia_data['FLOODS']\n",
        "\n",
        "# Train-test split for Malaysia\n",
        "X_train_malaysia, X_test_malaysia, y_train_malaysia, y_test_malaysia = train_test_split(X_malaysia, y_malaysia, test_size=0.25, random_state=42)\n",
        "\n",
        "#Apply SMOTE only on the Malaysia training set to handle class imbalance\n",
        "smote = SMOTE(sampling_strategy='auto', random_state=42)\n",
        "X_train_malaysia_smote, y_train_malaysia_smote = smote.fit_resample(X_train_malaysia, y_train_malaysia)\n",
        "\n",
        "#to check whether balance or not after using SMOTE\n",
        "print(y_train_malaysia.value_counts())\n",
        "print(y_train_malaysia_smote.value_counts())"
      ],
      "metadata": {
        "id": "qwFSvtZK41DM",
        "colab": {
          "base_uri": "https://localhost:8080/"
        },
        "outputId": "e5dbaf8b-25e5-4336-b245-ed1cb0f498b3"
      },
      "execution_count": 15,
      "outputs": [
        {
          "output_type": "stream",
          "name": "stdout",
          "text": [
            "FLOODS\n",
            "0    364\n",
            "1    254\n",
            "Name: count, dtype: int64\n",
            "FLOODS\n",
            "0    364\n",
            "1    364\n",
            "Name: count, dtype: int64\n"
          ]
        }
      ]
    },
    {
      "cell_type": "code",
      "source": [
        "# Check the shape of x_train and x_test\n",
        "print(\"X_train_malaysia shape =\", X_train_malaysia_smote.shape)\n",
        "print(\"X_test_malaysia shape =\", X_test_malaysia.shape)"
      ],
      "metadata": {
        "id": "i2iZX7SVJmQG",
        "colab": {
          "base_uri": "https://localhost:8080/"
        },
        "outputId": "00035d81-caa8-4fe4-ba7a-1847c19b76f7"
      },
      "execution_count": 16,
      "outputs": [
        {
          "output_type": "stream",
          "name": "stdout",
          "text": [
            "X_train_malaysia shape = (728, 15)\n",
            "X_test_malaysia shape = (207, 15)\n"
          ]
        }
      ]
    },
    {
      "cell_type": "markdown",
      "source": [
        "#Splitting data for combine dataset"
      ],
      "metadata": {
        "id": "GiVEmmY-JtRJ"
      }
    },
    {
      "cell_type": "code",
      "source": [
        "#For combined dataset\n",
        "X_combine = combined_data_encoded.drop('FLOODS', axis=1)\n",
        "y_combine = combined_data_encoded['FLOODS']\n",
        "\n",
        "# Train-test split for combined dataset\n",
        "X_train_combine, X_test_combine, y_train_combine, y_test_combine = train_test_split(X_combine, y_combine, test_size=0.25, random_state=42)\n",
        "\n",
        "#Apply SMOTE only on the Malaysia training set to handle class imbalance\n",
        "smote = SMOTE(sampling_strategy='auto', random_state=42)\n",
        "X_train_combine_smote, y_train_combine_smote = smote.fit_resample(X_train_combine, y_train_combine)\n",
        "\n",
        "# To check whether balance or not after using SMOTE\n",
        "print(y_train_combine.value_counts())\n",
        "print(y_train_combine_smote.value_counts())"
      ],
      "metadata": {
        "id": "92_-KL0oJwUY",
        "colab": {
          "base_uri": "https://localhost:8080/"
        },
        "outputId": "a583a4cc-6532-42fe-a5cb-8098f5039f39"
      },
      "execution_count": 17,
      "outputs": [
        {
          "output_type": "stream",
          "name": "stdout",
          "text": [
            "FLOODS\n",
            "0    417\n",
            "1    290\n",
            "Name: count, dtype: int64\n",
            "FLOODS\n",
            "1    417\n",
            "0    417\n",
            "Name: count, dtype: int64\n"
          ]
        }
      ]
    },
    {
      "cell_type": "code",
      "source": [
        "# Check the shape of x_train and x_test\n",
        "print(\"X_train shape =\", X_train_combine.shape)\n",
        "print(\"X_test shape =\", X_test_combine.shape)"
      ],
      "metadata": {
        "id": "Pnji8osXKAoF",
        "colab": {
          "base_uri": "https://localhost:8080/"
        },
        "outputId": "1ff0895e-477b-48b3-8d4c-b6e8067d5f9d"
      },
      "execution_count": 18,
      "outputs": [
        {
          "output_type": "stream",
          "name": "stdout",
          "text": [
            "X_train shape = (707, 15)\n",
            "X_test shape = (236, 15)\n"
          ]
        }
      ]
    },
    {
      "cell_type": "markdown",
      "source": [
        "#Preprocessing data"
      ],
      "metadata": {
        "id": "49yui2MdZVrc"
      }
    },
    {
      "cell_type": "code",
      "source": [
        "minmax = preprocessing.MinMaxScaler(feature_range=(0,1))\n",
        "scaler = StandardScaler()"
      ],
      "metadata": {
        "id": "yZilObJrZYZL"
      },
      "execution_count": 19,
      "outputs": []
    },
    {
      "cell_type": "markdown",
      "source": [
        "Modified:We added full preprocessing steps for each dataset, including scaling and the use of a Binarizer for specific models."
      ],
      "metadata": {
        "id": "YO4rD1hwX1bO"
      }
    },
    {
      "cell_type": "code",
      "source": [
        "# Scale Kerala data\n",
        "X_train_sc = scaler.fit_transform(X_train)\n",
        "X_test_sc = scaler.transform(X_test)"
      ],
      "metadata": {
        "id": "nWIYVBmlyhIK"
      },
      "execution_count": 20,
      "outputs": []
    },
    {
      "cell_type": "code",
      "source": [
        "# Scale Malaysia data\n",
        "scaler_malaysia = minmax\n",
        "X_train_malaysia_sc = scaler_malaysia.fit_transform(X_train_malaysia)\n",
        "X_test_malaysia_sc = scaler_malaysia.transform(X_test_malaysia)"
      ],
      "metadata": {
        "id": "-G__5Q1PZk18"
      },
      "execution_count": 21,
      "outputs": []
    },
    {
      "cell_type": "code",
      "source": [
        "# Scale Malaysia data\n",
        "scaler_malaysia = minmax\n",
        "X_train_malaysia_scaled = scaler_malaysia.fit_transform(X_train_malaysia_smote)\n",
        "X_test_malaysia_scaled = scaler_malaysia.transform(X_test_malaysia)"
      ],
      "metadata": {
        "id": "zHodY-mtZljz"
      },
      "execution_count": 22,
      "outputs": []
    },
    {
      "cell_type": "code",
      "source": [
        "#Scale combined data\n",
        "X_train_combine_sc = minmax.fit_transform(X_train_combine)\n",
        "X_test_combine_scaled = minmax.transform(X_test_combine)\n",
        "X_train_combine_scaled = minmax.fit_transform(X_train_combine_smote)"
      ],
      "metadata": {
        "id": "cCEeIyR5ZpwE"
      },
      "execution_count": 23,
      "outputs": []
    },
    {
      "cell_type": "code",
      "source": [
        "# Create a Binarizer that converts values greater than 75.0 to 1, and values less than or equal to 75.0 to 0\n",
        "binarizer = Binarizer(threshold=75.0)\n",
        "\n",
        "# Create a Binarizer that converts values greater than 200.0 to 1, and values less than or equal to 200.0 to 0\n",
        "binarizer_mls= Binarizer(threshold=200.0)"
      ],
      "metadata": {
        "id": "53tWsA7oZxXH"
      },
      "execution_count": 24,
      "outputs": []
    },
    {
      "cell_type": "code",
      "source": [
        "#For Naive Bayes model\n",
        "X_train_bin = binarizer.fit_transform(X_train) #for Kerala dataset\n",
        "X_test_bin = binarizer.transform(X_test)\n",
        "\n",
        "X_train_binarized = binarizer_mls.fit_transform(X_train_malaysia)  #for malaysia dataset\n",
        "X_test_binarized = binarizer_mls.transform(X_test_malaysia)\n",
        "\n",
        "X_train_combin = binarizer.fit_transform(X_train_combine)\n",
        "X_test_combin = binarizer.transform(X_test_combine)"
      ],
      "metadata": {
        "id": "ZgS7xfNBZyVT"
      },
      "execution_count": 25,
      "outputs": []
    },
    {
      "cell_type": "markdown",
      "source": [
        "#Modelling for Kerala"
      ],
      "metadata": {
        "id": "uqBQSoS-Z9U7"
      }
    },
    {
      "cell_type": "markdown",
      "source": [
        "##KNN classifier"
      ],
      "metadata": {
        "id": "153wZietaAUc"
      }
    },
    {
      "cell_type": "markdown",
      "source": [
        "Modified: Scaled training data is used instead of unscaled data and we use 5 folds for the cross-validation score."
      ],
      "metadata": {
        "id": "G9-qleZ0Zk9u"
      }
    },
    {
      "cell_type": "code",
      "source": [
        "model = neighbors.KNeighborsClassifier()\n",
        "knn_model = model.fit(X_train_sc,y_train)"
      ],
      "metadata": {
        "id": "M55iU3Qv04OU"
      },
      "execution_count": 26,
      "outputs": []
    },
    {
      "cell_type": "code",
      "source": [
        "# Make predictions for x_test\n",
        "y_predict = knn_model.predict(X_test_sc)\n",
        "\n",
        "# Check the predict values\n",
        "print('Predicted chances of flood')\n",
        "print(y_predict)\n",
        "\n",
        "# Check the actual values\n",
        "print(\"actual values of floods:\")\n",
        "print(y_test.values)"
      ],
      "metadata": {
        "colab": {
          "base_uri": "https://localhost:8080/"
        },
        "id": "jQXq9F_1ai-L",
        "outputId": "1b7366c5-8679-4460-e939-cd878eb729ff"
      },
      "execution_count": 27,
      "outputs": [
        {
          "output_type": "stream",
          "name": "stdout",
          "text": [
            "Predicted chances of flood\n",
            "[0 0 0 1 1 0 0 0 1 0 1 0 1 0 1 1 0 1 1 1 0 1 0 1 0 0 0 1 0 1]\n",
            "actual values of floods:\n",
            "[1 0 0 1 1 0 0 0 1 0 1 0 1 1 1 1 0 1 1 1 0 1 0 1 0 0 1 1 0 1]\n"
          ]
        }
      ]
    },
    {
      "cell_type": "markdown",
      "source": [
        "Calculate the accuracy score using k-fold cross-validation.\n",
        "\n",
        "*   The `knn_model` uses the KNN model that was created previously.\n",
        "*   The `cv=5` parameter specifies the number of folds, so in this case, there are 5 folds.\n",
        "*   The `scoring='accuracy'` parameter specifies the accuracy score as the evaluation metric.\n"
      ],
      "metadata": {
        "id": "D9545RoKa49r"
      }
    },
    {
      "cell_type": "code",
      "source": [
        "# Print the accuracy score after 5 folds\n",
        "knn_accuracy = cross_val_score(knn_model, X_train_sc, y_train, cv=5, scoring='accuracy', n_jobs=-1)\n",
        "\n",
        "# Print the average accuracy across 5-fold cross-validation\n",
        "print('The accuracy score after 5 folds is:', knn_accuracy.mean())\n",
        "\n",
        "# Evaluate the trained KNN model on the test set\n",
        "test_accuracy = knn_model.score(X_test_sc, y_test)\n",
        "print(\"Test accuracy:\", test_accuracy)"
      ],
      "metadata": {
        "colab": {
          "base_uri": "https://localhost:8080/"
        },
        "id": "H6dV204XamTz",
        "outputId": "c53681e5-1a07-41ca-bb13-b57bd310ed4a"
      },
      "execution_count": 28,
      "outputs": [
        {
          "output_type": "stream",
          "name": "stdout",
          "text": [
            "The accuracy score after 5 folds is: 0.7954248366013073\n",
            "Test accuracy: 0.9\n"
          ]
        }
      ]
    },
    {
      "cell_type": "code",
      "source": [
        "print('\\nAccuracy Score: {:.2f}%'.format(accuracy_score(y_test, y_predict) * 100))\n",
        "print('Recall Score: {:.2f}%'.format(recall_score(y_test, y_predict) * 100))\n",
        "print('ROC AUC Score: {:.2f}%'.format(roc_auc_score(y_test, y_predict) * 100))\n",
        "\n",
        "# Create a confusion matrix\n",
        "cm = confusion_matrix(y_test, y_predict)\n",
        "\n",
        "# Create a heatmap for the confusion matrix\n",
        "plt.figure(figsize=(8, 6))\n",
        "sns.heatmap(cm, annot=True, cmap='Reds', fmt='d')\n",
        "plt.xlabel('Predicted')\n",
        "plt.ylabel('Actual')\n",
        "plt.title('Confusion Matrix')\n",
        "plt.show()"
      ],
      "metadata": {
        "colab": {
          "base_uri": "https://localhost:8080/",
          "height": 633
        },
        "id": "QDg4u7TQap-z",
        "outputId": "ecf2d488-f64a-489a-ca45-9b5e955beb91"
      },
      "execution_count": 29,
      "outputs": [
        {
          "output_type": "stream",
          "name": "stdout",
          "text": [
            "\n",
            "Accuracy Score: 90.00%\n",
            "Recall Score: 82.35%\n",
            "ROC AUC Score: 91.18%\n"
          ]
        },
        {
          "output_type": "display_data",
          "data": {
            "text/plain": [
              "<Figure size 800x600 with 2 Axes>"
            ],
            "image/png": "[encoded data removed]"
          },
          "metadata": {}
        }
      ]
    },
    {
      "cell_type": "markdown",
      "source": [
        "The confusion matrix for the KNN model shows that there are:\n",
        "\n",
        "* 13 true positives, meaning that the model correctly classified 13 data points as floods.\n",
        "* 0 false positives, meaning that the model incorrectly classified 0 data points as floods.\n",
        "* 3 false negative, meaning that the model incorrectly classified 3 data point as not a flood.\n",
        "* 14 true negatives, meaning that the model correctly classified 14 data points as not floods.\n",
        "\n",
        "Overall, the confusion matrix shows that the model is able to classify data with a high degree of accuracy."
      ],
      "metadata": {
        "id": "1MJHmQ0h1AmU"
      }
    },
    {
      "cell_type": "markdown",
      "source": [
        "##Logistic Regression"
      ],
      "metadata": {
        "id": "1aSFsETrbjaf"
      }
    },
    {
      "cell_type": "markdown",
      "source": [
        "Modified: Standard scaler is used instead of minmax scaler and we use 5 folds for the cross-validation score."
      ],
      "metadata": {
        "id": "mY__nJLZaLCV"
      }
    },
    {
      "cell_type": "code",
      "source": [
        "lr = LogisticRegression(max_iter=1000)\n",
        "lr_model = lr.fit(X_train_sc,y_train)\n",
        "\n",
        "y_predict = lr_model.predict(X_test_sc)\n",
        "\n",
        "print('Predicted chances of flood')\n",
        "print(y_predict)\n",
        "\n",
        "print('Actual chances of flood')\n",
        "print(y_test.values)"
      ],
      "metadata": {
        "colab": {
          "base_uri": "https://localhost:8080/"
        },
        "id": "ThpgppbNbmH7",
        "outputId": "9cf2369e-dc36-41fc-800d-e48ba0b3d1c5"
      },
      "execution_count": 30,
      "outputs": [
        {
          "output_type": "stream",
          "name": "stdout",
          "text": [
            "Predicted chances of flood\n",
            "[1 0 0 1 1 0 0 0 1 0 1 0 1 1 1 1 0 1 1 1 0 1 0 1 0 0 1 1 0 1]\n",
            "Actual chances of flood\n",
            "[1 0 0 1 1 0 0 0 1 0 1 0 1 1 1 1 0 1 1 1 0 1 0 1 0 0 1 1 0 1]\n"
          ]
        }
      ]
    },
    {
      "cell_type": "code",
      "source": [
        "lr_accuracy = cross_val_score(lr_model,X_test_sc,y_test,cv=5,scoring='accuracy',n_jobs=-1)\n",
        "\n",
        "print('The accuracy score after 5 folds is:', lr_accuracy.mean())\n",
        "\n",
        "test_accuracy = lr_model.score(X_test_sc, y_test)\n",
        "print(\"Test accuracy:\", test_accuracy)"
      ],
      "metadata": {
        "colab": {
          "base_uri": "https://localhost:8080/"
        },
        "id": "Pz9T8-RDfhjd",
        "outputId": "7db038fa-d512-42fb-fad6-2e62dd69bb69"
      },
      "execution_count": 31,
      "outputs": [
        {
          "output_type": "stream",
          "name": "stdout",
          "text": [
            "The accuracy score after 5 folds is: 0.9\n",
            "Test accuracy: 1.0\n"
          ]
        }
      ]
    },
    {
      "cell_type": "code",
      "source": [
        "print('\\nAccuracy Score: {:.2f}%'.format(accuracy_score(y_test, y_predict) * 100))\n",
        "print('Recall Score: {:.2f}%'.format(recall_score(y_test, y_predict) * 100))\n",
        "print('ROC AUC Score: {:.2f}%'.format(roc_auc_score(y_test, y_predict) * 100))\n",
        "\n",
        "# Create a confusion matrix\n",
        "cm = confusion_matrix(y_test, y_predict)\n",
        "\n",
        "# Create a heatmap for the confusion matrix\n",
        "plt.figure(figsize=(8, 6))\n",
        "sns.heatmap(cm, annot=True, cmap='Reds', fmt='d')\n",
        "plt.xlabel('Predicted')\n",
        "plt.ylabel('Actual')\n",
        "plt.title('Confusion Matrix')\n",
        "plt.show()"
      ],
      "metadata": {
        "colab": {
          "base_uri": "https://localhost:8080/",
          "height": 633
        },
        "id": "GaGW5oEkf7_l",
        "outputId": "db645529-a05e-4476-a141-361d1498cce5"
      },
      "execution_count": 32,
      "outputs": [
        {
          "output_type": "stream",
          "name": "stdout",
          "text": [
            "\n",
            "Accuracy Score: 100.00%\n",
            "Recall Score: 100.00%\n",
            "ROC AUC Score: 100.00%\n"
          ]
        },
        {
          "output_type": "display_data",
          "data": {
            "text/plain": [
              "<Figure size 800x600 with 2 Axes>"
            ],
            "image/png": "[encoded data removed]"
          },
          "metadata": {}
        }
      ]
    },
    {
      "cell_type": "markdown",
      "source": [
        "##SVC(Support Vector Classifier)"
      ],
      "metadata": {
        "id": "ogfa-nnSh4FR"
      }
    },
    {
      "cell_type": "markdown",
      "source": [
        "Modified: Scaled training data is used instead of unscaled data and we use 5 folds for the cross-validation score."
      ],
      "metadata": {
        "id": "_ZlFVH6Ua6mO"
      }
    },
    {
      "cell_type": "code",
      "source": [
        "svc = SVC(kernel='rbf',probability=True)\n",
        "svc_model = svc.fit(X_train_sc,y_train)\n",
        "\n",
        "y_predict=svc_model.predict(X_test_sc)\n",
        "\n",
        "print(\"Actual Flood Values:\")\n",
        "print(y_test.values)\n",
        "\n",
        "print(\"Predicted Flood Values:\")\n",
        "print(y_predict)"
      ],
      "metadata": {
        "colab": {
          "base_uri": "https://localhost:8080/"
        },
        "id": "YT7mRIWRiDqg",
        "outputId": "eab6d820-815f-4340-9306-f7b429606e37"
      },
      "execution_count": 33,
      "outputs": [
        {
          "output_type": "stream",
          "name": "stdout",
          "text": [
            "Actual Flood Values:\n",
            "[1 0 0 1 1 0 0 0 1 0 1 0 1 1 1 1 0 1 1 1 0 1 0 1 0 0 1 1 0 1]\n",
            "Predicted Flood Values:\n",
            "[1 0 0 1 1 0 0 0 1 0 1 0 1 1 1 1 0 1 1 1 0 1 0 1 0 0 1 1 1 1]\n"
          ]
        }
      ]
    },
    {
      "cell_type": "code",
      "source": [
        "svc_acc = cross_val_score(svc_model,X_train_sc,y_train,cv=5,scoring=\"accuracy\",n_jobs=-1)\n",
        "print('The accuracy score after 5 folds is:', svc_acc.mean())\n",
        "\n",
        "test_accuracy = svc_model.score(X_test_sc, y_test)\n",
        "print('Test accuracy:', test_accuracy)"
      ],
      "metadata": {
        "colab": {
          "base_uri": "https://localhost:8080/"
        },
        "id": "tB63LdH9iNXK",
        "outputId": "911ebaa9-7f96-40b6-bb78-6afd66af2f66"
      },
      "execution_count": 34,
      "outputs": [
        {
          "output_type": "stream",
          "name": "stdout",
          "text": [
            "The accuracy score after 5 folds is: 0.9215686274509803\n",
            "Test accuracy: 0.9666666666666667\n"
          ]
        }
      ]
    },
    {
      "cell_type": "code",
      "source": [
        "print('\\nAccuracy Score: {:.2f}%'.format(accuracy_score(y_test, y_predict) * 100))\n",
        "print('Recall Score: {:.2f}%'.format(recall_score(y_test, y_predict) * 100))\n",
        "print('ROC AUC Score: {:.2f}%'.format(roc_auc_score(y_test, y_predict) * 100))\n",
        "\n",
        "# Create a confusion matrix\n",
        "cm = confusion_matrix(y_test, y_predict)\n",
        "\n",
        "# Create a heatmap for the confusion matrix\n",
        "plt.figure(figsize=(8, 6))\n",
        "sns.heatmap(cm, annot=True, cmap='Reds', fmt='d')\n",
        "plt.xlabel('Predicted')\n",
        "plt.ylabel('Actual')\n",
        "plt.title('Confusion Matrix')\n",
        "plt.show()"
      ],
      "metadata": {
        "colab": {
          "base_uri": "https://localhost:8080/",
          "height": 633
        },
        "id": "_Ct8npBdiT9p",
        "outputId": "a9158ab1-8711-400a-dcc0-9e7e1df83c01"
      },
      "execution_count": 35,
      "outputs": [
        {
          "output_type": "stream",
          "name": "stdout",
          "text": [
            "\n",
            "Accuracy Score: 96.67%\n",
            "Recall Score: 100.00%\n",
            "ROC AUC Score: 96.15%\n"
          ]
        },
        {
          "output_type": "display_data",
          "data": {
            "text/plain": [
              "<Figure size 800x600 with 2 Axes>"
            ],
            "image/png": "[encoded data removed]"
          },
          "metadata": {}
        }
      ]
    },
    {
      "cell_type": "markdown",
      "source": [
        "##Decision tree classification"
      ],
      "metadata": {
        "id": "Ux60mWeXiYmh"
      }
    },
    {
      "cell_type": "markdown",
      "source": [
        "Modified: Specific hyperparameter is applied to help prevent overfitting and we use 5 folds for the cross-validation score."
      ],
      "metadata": {
        "id": "7aABMDh7bDbc"
      }
    },
    {
      "cell_type": "code",
      "source": [
        "dtc = DecisionTreeClassifier(max_depth=3, min_samples_leaf=5)\n",
        "dtc_model = dtc.fit(X_train,y_train)\n",
        "\n",
        "#Predict\n",
        "y_predict = dtc_model.predict(X_test)\n",
        "\n",
        "print('Predict values:')\n",
        "print(y_predict)\n",
        "\n",
        "#Actual flood chances\n",
        "print(\"actual values:\")\n",
        "print(y_test.values)"
      ],
      "metadata": {
        "colab": {
          "base_uri": "https://localhost:8080/"
        },
        "id": "c2IZ7pwgiYQh",
        "outputId": "0d2fd15c-8a35-4729-c33d-21b9815f4b8c"
      },
      "execution_count": 36,
      "outputs": [
        {
          "output_type": "stream",
          "name": "stdout",
          "text": [
            "Predict values:\n",
            "[1 0 0 1 1 0 0 0 1 0 1 0 1 1 1 1 0 1 1 1 0 1 0 1 0 0 1 1 0 1]\n",
            "actual values:\n",
            "[1 0 0 1 1 0 0 0 1 0 1 0 1 1 1 1 0 1 1 1 0 1 0 1 0 0 1 1 0 1]\n"
          ]
        }
      ]
    },
    {
      "cell_type": "code",
      "source": [
        "dtc_acc = cross_val_score(dtc_model,X_train,y_train,cv=5,scoring=\"accuracy\",n_jobs=-1)\n",
        "print('The accuracy score after 5 folds is:',dtc_acc.mean())\n",
        "\n",
        "test_accuracy = dtc_model.score(X_test, y_test)\n",
        "print('Test accuracy:', test_accuracy)"
      ],
      "metadata": {
        "colab": {
          "base_uri": "https://localhost:8080/"
        },
        "id": "CPD26L-oix1p",
        "outputId": "f6dc8e76-6f2c-407a-a1d5-461a18f91c40"
      },
      "execution_count": 37,
      "outputs": [
        {
          "output_type": "stream",
          "name": "stdout",
          "text": [
            "The accuracy score after 5 folds is: 0.9882352941176471\n",
            "Test accuracy: 1.0\n"
          ]
        }
      ]
    },
    {
      "cell_type": "code",
      "source": [
        "print('\\nAccuracy Score: {:.2f}%'.format(accuracy_score(y_test, y_predict) * 100))\n",
        "print('Recall Score: {:.2f}%'.format(recall_score(y_test, y_predict) * 100))\n",
        "print('ROC AUC Score: {:.2f}%'.format(roc_auc_score(y_test, y_predict) * 100))\n",
        "\n",
        "# Create a confusion matrix\n",
        "cm = confusion_matrix(y_test, y_predict)\n",
        "\n",
        "# Create a heatmap for the confusion matrix\n",
        "plt.figure(figsize=(8, 6))\n",
        "sns.heatmap(cm, annot=True, cmap='Reds', fmt='d')\n",
        "plt.xlabel('Predicted')\n",
        "plt.ylabel('Actual')\n",
        "plt.title('Confusion Matrix')\n",
        "plt.show()"
      ],
      "metadata": {
        "colab": {
          "base_uri": "https://localhost:8080/",
          "height": 633
        },
        "id": "32Tggsn4i0cN",
        "outputId": "70046032-7813-45f6-d15f-9994e774882b"
      },
      "execution_count": 38,
      "outputs": [
        {
          "output_type": "stream",
          "name": "stdout",
          "text": [
            "\n",
            "Accuracy Score: 100.00%\n",
            "Recall Score: 100.00%\n",
            "ROC AUC Score: 100.00%\n"
          ]
        },
        {
          "output_type": "display_data",
          "data": {
            "text/plain": [
              "<Figure size 800x600 with 2 Axes>"
            ],
            "image/png": "[encoded data removed]"
          },
          "metadata": {}
        }
      ]
    },
    {
      "cell_type": "markdown",
      "source": [
        "##Random Forest Classification"
      ],
      "metadata": {
        "id": "_Dsi75pDi4D9"
      }
    },
    {
      "cell_type": "markdown",
      "source": [
        "Modified: Specific hyperparameter is applied to help prevent overfitting and we use 5 folds for the cross-validation score."
      ],
      "metadata": {
        "id": "8r664X8bb0KK"
      }
    },
    {
      "cell_type": "code",
      "source": [
        "rmf = RandomForestClassifier( n_estimators=100,\n",
        "    max_depth=3,              # Limits how deep each tree can go\n",
        "    min_samples_leaf=4,       # Minimum samples per leaf\n",
        "    min_samples_split=10,     # Minimum samples to split a node\n",
        "    max_features='sqrt',      # Limits number of features per tree\n",
        "    random_state=42)\n",
        "rmf_model = rmf.fit(X_train,y_train)"
      ],
      "metadata": {
        "id": "H8xrP6MVi8Oy"
      },
      "execution_count": 39,
      "outputs": []
    },
    {
      "cell_type": "code",
      "source": [
        "y_predict = rmf_model.predict(X_test)\n",
        "\n",
        "print('Predict values:')\n",
        "print(y_predict)\n",
        "\n",
        "#Actual flood chances\n",
        "print(\"actual values:\")\n",
        "print(y_test.values)"
      ],
      "metadata": {
        "colab": {
          "base_uri": "https://localhost:8080/"
        },
        "id": "PLr9CoHmi3ZC",
        "outputId": "fcf35aa8-e2cd-45be-d9b2-0cc72f88546e"
      },
      "execution_count": 40,
      "outputs": [
        {
          "output_type": "stream",
          "name": "stdout",
          "text": [
            "Predict values:\n",
            "[1 0 0 1 1 0 0 0 1 0 1 0 1 1 1 1 0 1 1 1 0 1 0 1 0 0 1 1 0 1]\n",
            "actual values:\n",
            "[1 0 0 1 1 0 0 0 1 0 1 0 1 1 1 1 0 1 1 1 0 1 0 1 0 0 1 1 0 1]\n"
          ]
        }
      ]
    },
    {
      "cell_type": "code",
      "source": [
        "rmf_acc = cross_val_score(rmf_model,X_train,y_train,cv=5,scoring=\"accuracy\",n_jobs=-1)\n",
        "print('The accuracy score after 5 folds is:',rmf_acc.mean())\n",
        "\n",
        "test_accuracy = rmf_model.score(X_test, y_test)\n",
        "print('Test accuracy:', test_accuracy)"
      ],
      "metadata": {
        "colab": {
          "base_uri": "https://localhost:8080/"
        },
        "id": "ZvKRkvECj4Bs",
        "outputId": "310c579e-7d8c-471c-d177-db26fc46ef27"
      },
      "execution_count": 41,
      "outputs": [
        {
          "output_type": "stream",
          "name": "stdout",
          "text": [
            "The accuracy score after 5 folds is: 0.9882352941176471\n",
            "Test accuracy: 1.0\n"
          ]
        }
      ]
    },
    {
      "cell_type": "code",
      "source": [
        "print('\\nAccuracy Score: {:.2f}%'.format(accuracy_score(y_test, y_predict) * 100))\n",
        "print('Recall Score: {:.2f}%'.format(recall_score(y_test, y_predict) * 100))\n",
        "print('ROC AUC Score: {:.2f}%'.format(roc_auc_score(y_test, y_predict) * 100))\n",
        "\n",
        "# Create a confusion matrix\n",
        "cm = confusion_matrix(y_test, y_predict)\n",
        "\n",
        "# Create a heatmap for the confusion matrix\n",
        "plt.figure(figsize=(8, 6))\n",
        "sns.heatmap(cm, annot=True, cmap='Reds', fmt='d')\n",
        "plt.xlabel('Predicted')\n",
        "plt.ylabel('Actual')\n",
        "plt.title('Confusion Matrix')\n",
        "plt.show()"
      ],
      "metadata": {
        "colab": {
          "base_uri": "https://localhost:8080/",
          "height": 633
        },
        "id": "KJcOs29CjGvB",
        "outputId": "5aa34b41-08c2-438e-bf57-a79424a4db7a"
      },
      "execution_count": 42,
      "outputs": [
        {
          "output_type": "stream",
          "name": "stdout",
          "text": [
            "\n",
            "Accuracy Score: 100.00%\n",
            "Recall Score: 100.00%\n",
            "ROC AUC Score: 100.00%\n"
          ]
        },
        {
          "output_type": "display_data",
          "data": {
            "text/plain": [
              "<Figure size 800x600 with 2 Axes>"
            ],
            "image/png": "[encoded data removed]"
          },
          "metadata": {}
        }
      ]
    },
    {
      "cell_type": "markdown",
      "source": [
        "##Naive Bayes after using Binarizer"
      ],
      "metadata": {
        "id": "HWuMWKLdj8Gt"
      }
    },
    {
      "cell_type": "markdown",
      "source": [
        "Modified:  Applied Binarizer preprocessing to transform continuous features into binary form and use 5 folds for the cross-validation score."
      ],
      "metadata": {
        "id": "0Qa1IHr_cBRJ"
      }
    },
    {
      "cell_type": "code",
      "source": [
        "nb = BernoulliNB(force_alpha=True)\n",
        "nb_model = nb.fit(X_train_bin,y_train)"
      ],
      "metadata": {
        "id": "MwxWMJfNA49s"
      },
      "execution_count": 43,
      "outputs": []
    },
    {
      "cell_type": "code",
      "source": [
        "y_predict=nb_model.predict(X_test_bin)\n",
        "\n",
        "print(\"Actual Flood Values:\")\n",
        "print(y_test.values)\n",
        "\n",
        "print(\"Predicted Flood Values:\")\n",
        "print(y_predict)"
      ],
      "metadata": {
        "colab": {
          "base_uri": "https://localhost:8080/"
        },
        "id": "K_sF8yuEA8WX",
        "outputId": "dd087ede-2f7f-4f4f-94d8-b0c4d07fc41f"
      },
      "execution_count": 44,
      "outputs": [
        {
          "output_type": "stream",
          "name": "stdout",
          "text": [
            "Actual Flood Values:\n",
            "[1 0 0 1 1 0 0 0 1 0 1 0 1 1 1 1 0 1 1 1 0 1 0 1 0 0 1 1 0 1]\n",
            "Predicted Flood Values:\n",
            "[0 0 0 1 1 0 1 0 0 0 0 1 1 0 1 1 1 1 0 1 1 1 0 1 0 1 1 0 1 1]\n"
          ]
        }
      ]
    },
    {
      "cell_type": "code",
      "source": [
        "nb_accuracy = cross_val_score(nb_model,X_train_bin,y_train,cv=5,scoring='accuracy',n_jobs=-1)\n",
        "print('The accuracy score after 5 folds is:',nb_accuracy.mean())\n",
        "\n",
        "test_accuracy = nb_model.score(X_test_bin, y_test)\n",
        "print('Test accuracy:', test_accuracy)"
      ],
      "metadata": {
        "colab": {
          "base_uri": "https://localhost:8080/"
        },
        "id": "nmVcARcLBAyD",
        "outputId": "64d71f07-ecb2-403e-bc65-9b5bacd966e4"
      },
      "execution_count": 45,
      "outputs": [
        {
          "output_type": "stream",
          "name": "stdout",
          "text": [
            "The accuracy score after 5 folds is: 0.5470588235294118\n",
            "Test accuracy: 0.6\n"
          ]
        }
      ]
    },
    {
      "cell_type": "code",
      "source": [
        "print('\\nAccuracy Score: {:.2f}%'.format(accuracy_score(y_test, y_predict) * 100))\n",
        "print('Recall Score: {:.2f}%'.format(recall_score(y_test, y_predict) * 100))\n",
        "print('ROC AUC Score: {:.2f}%'.format(roc_auc_score(y_test, y_predict) * 100))\n",
        "\n",
        "# Create a confusion matrix\n",
        "cm = confusion_matrix(y_test, y_predict)\n",
        "\n",
        "# Create a heatmap for the confusion matrix\n",
        "plt.figure(figsize=(8, 6))\n",
        "sns.heatmap(cm, annot=True, cmap='Reds', fmt='d')\n",
        "plt.xlabel('Predicted')\n",
        "plt.ylabel('Actual')\n",
        "plt.title('NB Confusion Matrix')\n",
        "plt.show()"
      ],
      "metadata": {
        "colab": {
          "base_uri": "https://localhost:8080/",
          "height": 633
        },
        "id": "My4zyMRVBDtX",
        "outputId": "95def496-9f61-4232-c367-36b81081cab6"
      },
      "execution_count": 46,
      "outputs": [
        {
          "output_type": "stream",
          "name": "stdout",
          "text": [
            "\n",
            "Accuracy Score: 60.00%\n",
            "Recall Score: 64.71%\n",
            "ROC AUC Score: 59.28%\n"
          ]
        },
        {
          "output_type": "display_data",
          "data": {
            "text/plain": [
              "<Figure size 800x600 with 2 Axes>"
            ],
            "image/png": "[encoded data removed]"
          },
          "metadata": {}
        }
      ]
    },
    {
      "cell_type": "markdown",
      "source": [
        "##Ensemble Learning"
      ],
      "metadata": {
        "id": "pzRVSWrQBMPD"
      }
    },
    {
      "cell_type": "markdown",
      "source": [
        "Modified: Used pipeline to combine preprocessing and model training and use 5 folds for the cross-validation score."
      ],
      "metadata": {
        "id": "yUuCWH4ycliF"
      }
    },
    {
      "cell_type": "code",
      "source": [
        "# Scaled pipelines\n",
        "knn_pipe = Pipeline([('scaler', StandardScaler()), ('knn', KNeighborsClassifier())])\n",
        "lr_pipe = Pipeline([('scaler', StandardScaler()), ('lr', LogisticRegression())])\n",
        "svc_pipe = Pipeline([('scaler', StandardScaler()), ('svc', SVC(probability=True))])\n",
        "\n",
        "rf_model = RandomForestClassifier()\n",
        "\n",
        "# Ensemble\n",
        "ensemble = VotingClassifier(\n",
        "    estimators=[\n",
        "        ('knn', knn_pipe),\n",
        "        ('lr', lr_pipe),\n",
        "        ('svc', svc_pipe),\n",
        "        ('rf', rf_model)\n",
        "    ],\n",
        "    voting='soft'  # use 'hard' for majority vote\n",
        ")"
      ],
      "metadata": {
        "id": "Ee2_P-SUBOqD"
      },
      "execution_count": 47,
      "outputs": []
    },
    {
      "cell_type": "code",
      "source": [
        "#fit model to training data\n",
        "ensemble.fit(X_train, y_train)\n",
        "\n",
        "#test our model on the test data\n",
        "ensemble.score(X_test, y_test)\n"
      ],
      "metadata": {
        "colab": {
          "base_uri": "https://localhost:8080/"
        },
        "id": "OAoUIZe3BSTr",
        "outputId": "9f7f7bbe-8bb0-4534-a4e4-8b4d9accc795"
      },
      "execution_count": 48,
      "outputs": [
        {
          "output_type": "execute_result",
          "data": {
            "text/plain": [
              "1.0"
            ]
          },
          "metadata": {},
          "execution_count": 48
        }
      ]
    },
    {
      "cell_type": "code",
      "source": [
        "scores = cross_val_score(ensemble, X, y, cv=5)\n",
        "print(\"CV Accuracy:\", scores.mean())"
      ],
      "metadata": {
        "id": "IYSvEavuXnOB",
        "outputId": "26397b79-5336-4627-9997-a068baf5ea63",
        "colab": {
          "base_uri": "https://localhost:8080/"
        }
      },
      "execution_count": 49,
      "outputs": [
        {
          "output_type": "stream",
          "name": "stdout",
          "text": [
            "CV Accuracy: 0.9239130434782608\n"
          ]
        }
      ]
    },
    {
      "cell_type": "markdown",
      "source": [
        "#Modelling for Malaysia"
      ],
      "metadata": {
        "id": "AppS7iMhGK0C"
      }
    },
    {
      "cell_type": "markdown",
      "source": [
        "The code below was added by us which is train and test for Malaysia dataset and Combined dataset, included performance comparison among models, and selected the best-performing model for prediction."
      ],
      "metadata": {
        "id": "1ZL1kX5sddug"
      }
    },
    {
      "cell_type": "markdown",
      "source": [
        "##KNN Classifier"
      ],
      "metadata": {
        "id": "GGEQQqT2GRKt"
      }
    },
    {
      "cell_type": "code",
      "source": [
        "model_malaysia = neighbors.KNeighborsClassifier()\n",
        "knn_model_malaysia = model_malaysia.fit(X_train_malaysia_scaled,y_train_malaysia_smote)"
      ],
      "metadata": {
        "id": "2zz1wtMPGQjE"
      },
      "execution_count": 50,
      "outputs": []
    },
    {
      "cell_type": "code",
      "source": [
        "# Make predictions for x_test\n",
        "y_predict_malaysia = knn_model_malaysia.predict(X_test_malaysia_scaled)\n",
        "print('Predicted chances of flood')\n",
        "print(y_predict_malaysia)\n",
        "# Check the actual values\n",
        "print(\"actual values of floods:\")\n",
        "print(y_test_malaysia.values)"
      ],
      "metadata": {
        "colab": {
          "base_uri": "https://localhost:8080/"
        },
        "id": "DH7tIJkmGXLp",
        "outputId": "f15b024f-0950-4c80-c350-9224ab62d6ae"
      },
      "execution_count": 51,
      "outputs": [
        {
          "output_type": "stream",
          "name": "stdout",
          "text": [
            "Predicted chances of flood\n",
            "[1 1 0 1 0 1 1 1 0 1 0 1 0 1 0 0 1 1 0 0 0 1 0 0 0 0 1 1 0 1 0 1 0 0 1 0 0\n",
            " 1 0 1 0 1 1 0 0 0 0 0 0 0 0 1 1 0 1 1 1 1 1 0 0 1 0 0 0 0 1 0 1 1 1 0 0 1\n",
            " 1 0 0 0 1 1 1 1 1 1 0 0 0 0 0 1 1 1 1 0 0 1 0 0 1 0 0 1 1 1 0 0 1 1 1 1 1\n",
            " 1 0 1 1 0 1 0 1 1 1 0 0 1 1 1 0 0 1 0 1 1 1 0 0 0 0 0 1 0 0 1 1 0 0 0 0 0\n",
            " 0 1 1 1 0 1 0 0 1 1 0 1 1 1 1 1 0 1 0 1 1 0 0 1 0 0 1 0 1 0 0 0 1 1 0 0 0\n",
            " 1 0 0 1 1 0 0 0 0 0 1 0 1 0 1 0 1 1 1 0 1 0]\n",
            "actual values of floods:\n",
            "[1 1 0 1 0 1 0 1 0 0 0 1 0 1 0 0 0 1 0 0 0 1 0 0 0 0 1 1 1 1 0 0 0 1 0 0 1\n",
            " 1 0 1 0 1 1 0 0 0 0 0 0 0 1 0 0 0 1 0 0 1 1 0 1 0 1 0 0 0 1 0 1 0 1 0 0 1\n",
            " 1 1 0 0 1 1 0 1 1 0 0 1 0 1 0 1 1 1 1 0 0 0 0 0 1 0 0 1 1 0 0 1 0 0 1 1 1\n",
            " 1 0 0 1 1 0 1 1 1 1 0 0 1 0 1 1 0 1 1 0 1 1 0 0 0 0 0 1 0 0 0 1 0 0 0 0 0\n",
            " 0 0 0 1 0 1 0 0 1 1 0 1 1 1 0 1 1 1 1 1 1 0 1 1 1 0 1 0 0 0 0 1 1 1 0 1 0\n",
            " 1 0 0 0 1 0 0 1 1 0 0 1 0 0 0 0 1 1 0 0 0 1]\n"
          ]
        }
      ]
    },
    {
      "cell_type": "code",
      "source": [
        "knn_accuracy1 = cross_val_score(knn_model_malaysia, X_train_malaysia_scaled, y_train_malaysia_smote, cv=5, scoring='accuracy', n_jobs=-1)\n",
        "print('The accuracy score after 5 folds is:', knn_accuracy1.mean())\n",
        "\n",
        "test_accuracy = knn_model_malaysia.score(X_test_malaysia_scaled, y_test_malaysia)\n",
        "print(\"Test accuracy:\", test_accuracy)"
      ],
      "metadata": {
        "colab": {
          "base_uri": "https://localhost:8080/"
        },
        "id": "rrbw8_QlGZHo",
        "outputId": "881259fc-b0bf-4dcd-ec16-c1b35b278438"
      },
      "execution_count": 52,
      "outputs": [
        {
          "output_type": "stream",
          "name": "stdout",
          "text": [
            "The accuracy score after 5 folds is: 0.6731695795937648\n",
            "Test accuracy: 0.7294685990338164\n"
          ]
        }
      ]
    },
    {
      "cell_type": "code",
      "source": [
        "print('\\nAccuracy Score: {:.2f}%'.format(accuracy_score(y_test_malaysia, y_predict_malaysia) * 100))\n",
        "print('Recall Score: {:.2f}%'.format(recall_score(y_test_malaysia, y_predict_malaysia) * 100))\n",
        "print('ROC AUC Score: {:.2f}%'.format(roc_auc_score(y_test_malaysia, y_predict_malaysia) * 100))\n",
        "\n",
        "# Create a confusion matrix\n",
        "cm = confusion_matrix(y_test_malaysia, y_predict_malaysia)\n",
        "\n",
        "# Create a heatmap for the confusion matrix\n",
        "plt.figure(figsize=(8, 6))\n",
        "sns.heatmap(cm, annot=True, cmap='Reds', fmt='d')\n",
        "plt.xlabel('Predicted')\n",
        "plt.ylabel('Actual')\n",
        "plt.title('Confusion Matrix')\n",
        "plt.show()"
      ],
      "metadata": {
        "colab": {
          "base_uri": "https://localhost:8080/",
          "height": 633
        },
        "id": "Wi7xc0IcGdU1",
        "outputId": "b07207a0-ef2f-4844-fe79-1f62837eb1ca"
      },
      "execution_count": 53,
      "outputs": [
        {
          "output_type": "stream",
          "name": "stdout",
          "text": [
            "\n",
            "Accuracy Score: 72.95%\n",
            "Recall Score: 74.19%\n",
            "ROC AUC Score: 73.06%\n"
          ]
        },
        {
          "output_type": "display_data",
          "data": {
            "text/plain": [
              "<Figure size 800x600 with 2 Axes>"
            ],
            "image/png": "[encoded data removed]"
          },
          "metadata": {}
        }
      ]
    },
    {
      "cell_type": "markdown",
      "source": [
        "##Logistics Regression"
      ],
      "metadata": {
        "id": "abiUpiIkGg7t"
      }
    },
    {
      "cell_type": "code",
      "source": [
        "lr_mls = LogisticRegression(max_iter=5000)\n",
        "lr_model_mls = lr_mls.fit(X_train_malaysia_scaled,y_train_malaysia_smote)"
      ],
      "metadata": {
        "id": "xm2XTQxiGvNw"
      },
      "execution_count": 54,
      "outputs": []
    },
    {
      "cell_type": "code",
      "source": [
        "y_predict_malaysia = lr_model_mls.predict(X_test_malaysia_scaled)\n",
        "\n",
        "print('Predicted chances of flood')\n",
        "print(y_predict_malaysia)\n",
        "\n",
        "print('Actual chances of flood')\n",
        "print(y_test_malaysia.values)"
      ],
      "metadata": {
        "id": "RqWlkJz_b_Sn",
        "colab": {
          "base_uri": "https://localhost:8080/"
        },
        "outputId": "f724ab9b-e01d-4cb9-87a0-44c521a7065e"
      },
      "execution_count": 55,
      "outputs": [
        {
          "output_type": "stream",
          "name": "stdout",
          "text": [
            "Predicted chances of flood\n",
            "[0 1 0 1 0 1 0 1 0 0 1 0 0 1 0 1 0 1 0 1 0 1 0 0 0 0 1 0 0 0 1 1 0 0 1 0 1\n",
            " 0 0 1 1 1 1 0 0 1 0 0 0 0 0 0 1 0 0 1 0 1 0 1 0 1 1 0 0 0 0 0 0 1 1 0 0 1\n",
            " 0 0 0 1 1 1 1 0 0 0 0 0 0 1 0 1 1 1 1 0 0 0 0 0 1 0 1 1 0 1 0 0 1 0 1 1 1\n",
            " 1 1 1 1 1 1 0 1 1 0 0 0 1 0 1 1 0 1 0 1 1 1 1 0 0 0 0 1 0 0 0 1 0 0 1 1 0\n",
            " 0 1 1 1 0 1 0 0 1 1 0 1 1 1 0 0 1 1 0 0 0 0 1 1 0 0 1 0 0 0 0 0 0 1 0 1 0\n",
            " 0 0 0 1 1 0 1 1 1 0 1 0 1 0 1 0 1 1 0 0 1 1]\n",
            "Actual chances of flood\n",
            "[1 1 0 1 0 1 0 1 0 0 0 1 0 1 0 0 0 1 0 0 0 1 0 0 0 0 1 1 1 1 0 0 0 1 0 0 1\n",
            " 1 0 1 0 1 1 0 0 0 0 0 0 0 1 0 0 0 1 0 0 1 1 0 1 0 1 0 0 0 1 0 1 0 1 0 0 1\n",
            " 1 1 0 0 1 1 0 1 1 0 0 1 0 1 0 1 1 1 1 0 0 0 0 0 1 0 0 1 1 0 0 1 0 0 1 1 1\n",
            " 1 0 0 1 1 0 1 1 1 1 0 0 1 0 1 1 0 1 1 0 1 1 0 0 0 0 0 1 0 0 0 1 0 0 0 0 0\n",
            " 0 0 0 1 0 1 0 0 1 1 0 1 1 1 0 1 1 1 1 1 1 0 1 1 1 0 1 0 0 0 0 1 1 1 0 1 0\n",
            " 1 0 0 0 1 0 0 1 1 0 0 1 0 0 0 0 1 1 0 0 0 1]\n"
          ]
        }
      ]
    },
    {
      "cell_type": "code",
      "source": [
        "lr_accuracy1 = cross_val_score(lr_model_mls,X_train_malaysia_scaled,y_train_malaysia_smote,cv=5,scoring='accuracy',n_jobs=-1)\n",
        "\n",
        "print('The accuracy score after 5 folds is:', lr_accuracy1.mean())\n",
        "\n",
        "test_accuracy = lr_model_mls.score(X_test_malaysia_scaled, y_test_malaysia)\n",
        "print(\"Test accuracy:\", test_accuracy)"
      ],
      "metadata": {
        "colab": {
          "base_uri": "https://localhost:8080/"
        },
        "id": "aEOtUKgscQBn",
        "outputId": "671750fe-168b-49fa-bbfc-8e4424f37ef3"
      },
      "execution_count": 56,
      "outputs": [
        {
          "output_type": "stream",
          "name": "stdout",
          "text": [
            "The accuracy score after 5 folds is: 0.6304676428908834\n",
            "Test accuracy: 0.6859903381642513\n"
          ]
        }
      ]
    },
    {
      "cell_type": "code",
      "source": [
        "print('\\nAccuracy Score: {:.2f}%'.format(accuracy_score(y_test_malaysia, y_predict_malaysia) * 100))\n",
        "print('Recall Score: {:.2f}%'.format(recall_score(y_test_malaysia, y_predict_malaysia) * 100))\n",
        "print('ROC AUC Score: {:.2f}%'.format(roc_auc_score(y_test_malaysia, y_predict_malaysia) * 100))\n",
        "\n",
        "# Create a confusion matrix\n",
        "cm = confusion_matrix(y_test_malaysia, y_predict_malaysia)\n",
        "\n",
        "# Create a heatmap for the confusion matrix\n",
        "plt.figure(figsize=(8, 6))\n",
        "sns.heatmap(cm, annot=True, cmap='Reds', fmt='d')\n",
        "plt.xlabel('Predicted')\n",
        "plt.ylabel('Actual')\n",
        "plt.title('Confusion Matrix')\n",
        "plt.show()"
      ],
      "metadata": {
        "colab": {
          "base_uri": "https://localhost:8080/",
          "height": 633
        },
        "id": "1azlcIOp4W94",
        "outputId": "fe2e3889-4b57-483f-8c5f-ee3ede357c37"
      },
      "execution_count": 57,
      "outputs": [
        {
          "output_type": "stream",
          "name": "stdout",
          "text": [
            "\n",
            "Accuracy Score: 68.60%\n",
            "Recall Score: 65.59%\n",
            "ROC AUC Score: 68.32%\n"
          ]
        },
        {
          "output_type": "display_data",
          "data": {
            "text/plain": [
              "<Figure size 800x600 with 2 Axes>"
            ],
            "image/png": "[encoded data removed]"
          },
          "metadata": {}
        }
      ]
    },
    {
      "cell_type": "markdown",
      "source": [
        "##SVC"
      ],
      "metadata": {
        "id": "BXddSNEljSJK"
      }
    },
    {
      "cell_type": "code",
      "source": [
        "svc_mls = SVC(kernel='rbf',probability=True)\n",
        "svc_model_mls = svc_mls.fit(X_train_malaysia_scaled,y_train_malaysia_smote)\n",
        "y_predict_malaysia=svc_model_mls.predict(X_test_malaysia_scaled)"
      ],
      "metadata": {
        "id": "alDzptjgjTkW"
      },
      "execution_count": 58,
      "outputs": []
    },
    {
      "cell_type": "code",
      "source": [
        "print(\"Actual Flood Values:\")\n",
        "print(y_test_malaysia.values)\n",
        "\n",
        "print(\"Predicted Flood Values:\")\n",
        "print(y_predict_malaysia)"
      ],
      "metadata": {
        "colab": {
          "base_uri": "https://localhost:8080/"
        },
        "id": "xe6jWrOkjbyy",
        "outputId": "498bedb3-55fd-4716-a207-1f369543a33b"
      },
      "execution_count": 59,
      "outputs": [
        {
          "output_type": "stream",
          "name": "stdout",
          "text": [
            "Actual Flood Values:\n",
            "[1 1 0 1 0 1 0 1 0 0 0 1 0 1 0 0 0 1 0 0 0 1 0 0 0 0 1 1 1 1 0 0 0 1 0 0 1\n",
            " 1 0 1 0 1 1 0 0 0 0 0 0 0 1 0 0 0 1 0 0 1 1 0 1 0 1 0 0 0 1 0 1 0 1 0 0 1\n",
            " 1 1 0 0 1 1 0 1 1 0 0 1 0 1 0 1 1 1 1 0 0 0 0 0 1 0 0 1 1 0 0 1 0 0 1 1 1\n",
            " 1 0 0 1 1 0 1 1 1 1 0 0 1 0 1 1 0 1 1 0 1 1 0 0 0 0 0 1 0 0 0 1 0 0 0 0 0\n",
            " 0 0 0 1 0 1 0 0 1 1 0 1 1 1 0 1 1 1 1 1 1 0 1 1 1 0 1 0 0 0 0 1 1 1 0 1 0\n",
            " 1 0 0 0 1 0 0 1 1 0 0 1 0 0 0 0 1 1 0 0 0 1]\n",
            "Predicted Flood Values:\n",
            "[0 1 0 1 0 1 1 1 1 0 0 0 0 1 0 1 1 1 0 1 0 1 0 0 1 0 1 0 0 0 1 1 0 1 1 0 1\n",
            " 1 0 1 1 1 1 0 0 1 0 0 0 0 0 0 1 0 1 0 0 1 0 0 0 1 0 0 0 0 1 0 0 1 1 0 0 1\n",
            " 0 0 0 1 1 1 1 0 1 1 0 1 0 1 0 1 1 1 1 0 0 0 0 0 0 1 1 1 1 1 0 0 1 0 1 1 1\n",
            " 1 1 1 1 0 1 0 1 1 0 0 0 1 1 0 1 0 1 0 1 1 1 1 0 0 1 0 1 0 0 0 1 0 0 1 1 0\n",
            " 0 1 1 1 0 1 0 0 1 0 0 1 1 1 1 1 0 1 0 0 0 1 0 1 1 0 1 0 1 0 0 1 0 1 0 1 0\n",
            " 0 1 0 1 1 0 1 1 1 0 1 0 1 1 0 0 1 1 0 0 1 1]\n"
          ]
        }
      ]
    },
    {
      "cell_type": "code",
      "source": [
        "svc_acc1 = cross_val_score(svc_model_mls,X_train_malaysia_scaled,y_train_malaysia_smote,cv=5,scoring=\"accuracy\",n_jobs=-1)\n",
        "print('The accuracy score after 5 folds is:', svc_acc1.mean())\n",
        "\n",
        "test_accuracy = svc_model_mls.score(X_test_malaysia_scaled, y_test_malaysia)\n",
        "print(\"Test accuracy:\", test_accuracy)"
      ],
      "metadata": {
        "colab": {
          "base_uri": "https://localhost:8080/"
        },
        "id": "Q1MS8Wk5j33-",
        "outputId": "9ba41e3f-fc9a-4297-d437-f937fccc821b"
      },
      "execution_count": 60,
      "outputs": [
        {
          "output_type": "stream",
          "name": "stdout",
          "text": [
            "The accuracy score after 5 folds is: 0.6758904109589041\n",
            "Test accuracy: 0.6570048309178744\n"
          ]
        }
      ]
    },
    {
      "cell_type": "code",
      "source": [
        "print('\\nAccuracy Score: {:.2f}%'.format(accuracy_score(y_test_malaysia, y_predict_malaysia) * 100))\n",
        "print('Recall Score: {:.2f}%'.format(recall_score(y_test_malaysia, y_predict_malaysia) * 100))\n",
        "print('ROC AUC Score: {:.2f}%'.format(roc_auc_score(y_test_malaysia, y_predict_malaysia) * 100))\n",
        "\n",
        "# Create a confusion matrix\n",
        "cm = confusion_matrix(y_test_malaysia, y_predict_malaysia)\n",
        "\n",
        "# Create a heatmap for the confusion matrix\n",
        "plt.figure(figsize=(8, 6))\n",
        "sns.heatmap(cm, annot=True, cmap='Reds', fmt='d')\n",
        "plt.xlabel('Predicted')\n",
        "plt.ylabel('Actual')\n",
        "plt.title('Confusion Matrix')\n",
        "plt.show()"
      ],
      "metadata": {
        "id": "MHXoHZEDj6Gb",
        "colab": {
          "base_uri": "https://localhost:8080/",
          "height": 633
        },
        "outputId": "c1cb4ae4-985d-4231-c5da-acc4d9f44e18"
      },
      "execution_count": 61,
      "outputs": [
        {
          "output_type": "stream",
          "name": "stdout",
          "text": [
            "\n",
            "Accuracy Score: 65.70%\n",
            "Recall Score: 68.82%\n",
            "ROC AUC Score: 65.99%\n"
          ]
        },
        {
          "output_type": "display_data",
          "data": {
            "text/plain": [
              "<Figure size 800x600 with 2 Axes>"
            ],
            "image/png": "[encoded data removed]"
          },
          "metadata": {}
        }
      ]
    },
    {
      "cell_type": "markdown",
      "source": [
        "##Decision Tree Classification"
      ],
      "metadata": {
        "id": "3GvykXwQktKG"
      }
    },
    {
      "cell_type": "code",
      "source": [
        "dtc_mls = DecisionTreeClassifier(class_weight='balanced')\n",
        "dtc_model_mls = dtc.fit(X_train_malaysia,y_train_malaysia)"
      ],
      "metadata": {
        "id": "VNENHj2nkxv2"
      },
      "execution_count": 62,
      "outputs": []
    },
    {
      "cell_type": "code",
      "source": [
        "y_predict_malaysia = dtc_model_mls.predict(X_test_malaysia)\n",
        "\n",
        "print(\"Actual Flood Values:\")\n",
        "print(y_test_malaysia.values)\n",
        "\n",
        "print(\"Predicted Flood Values:\")\n",
        "print(y_predict_malaysia)"
      ],
      "metadata": {
        "colab": {
          "base_uri": "https://localhost:8080/"
        },
        "id": "LAkiuQhzk-vu",
        "outputId": "5f462c68-b465-4e9f-a7fc-bb24448b4daf"
      },
      "execution_count": 63,
      "outputs": [
        {
          "output_type": "stream",
          "name": "stdout",
          "text": [
            "Actual Flood Values:\n",
            "[1 1 0 1 0 1 0 1 0 0 0 1 0 1 0 0 0 1 0 0 0 1 0 0 0 0 1 1 1 1 0 0 0 1 0 0 1\n",
            " 1 0 1 0 1 1 0 0 0 0 0 0 0 1 0 0 0 1 0 0 1 1 0 1 0 1 0 0 0 1 0 1 0 1 0 0 1\n",
            " 1 1 0 0 1 1 0 1 1 0 0 1 0 1 0 1 1 1 1 0 0 0 0 0 1 0 0 1 1 0 0 1 0 0 1 1 1\n",
            " 1 0 0 1 1 0 1 1 1 1 0 0 1 0 1 1 0 1 1 0 1 1 0 0 0 0 0 1 0 0 0 1 0 0 0 0 0\n",
            " 0 0 0 1 0 1 0 0 1 1 0 1 1 1 0 1 1 1 1 1 1 0 1 1 1 0 1 0 0 0 0 1 1 1 0 1 0\n",
            " 1 0 0 0 1 0 0 1 1 0 0 1 0 0 0 0 1 1 0 0 0 1]\n",
            "Predicted Flood Values:\n",
            "[1 1 1 0 0 1 0 1 1 1 1 1 1 1 0 0 1 0 0 1 0 1 0 1 1 0 1 1 1 1 0 1 0 1 1 1 1\n",
            " 1 0 1 1 1 0 0 0 1 0 0 0 0 0 1 1 0 1 0 1 0 1 1 0 0 0 0 1 0 1 1 1 1 1 0 0 0\n",
            " 0 0 0 1 0 0 1 1 0 1 0 1 0 1 0 0 0 1 0 0 0 0 0 0 1 1 0 1 1 1 1 0 1 0 1 1 1\n",
            " 1 1 0 0 1 1 0 1 1 1 0 0 1 1 1 1 1 1 1 1 1 1 1 0 1 1 0 0 1 0 1 1 0 1 1 1 0\n",
            " 0 1 1 1 0 0 0 0 1 0 0 0 1 1 1 1 1 1 1 0 1 1 1 1 1 0 1 0 1 0 0 1 1 1 0 1 0\n",
            " 0 1 1 0 0 0 1 1 1 0 1 0 1 1 0 1 1 1 0 0 1 1]\n"
          ]
        }
      ]
    },
    {
      "cell_type": "code",
      "source": [
        "dtc_acc1 = cross_val_score(dtc_model,X_train_malaysia,y_train_malaysia,cv=5,scoring=\"accuracy\",n_jobs=-1)\n",
        "print('The accuracy score after 5 folds is:', dtc_acc1.mean())\n",
        "\n",
        "test_accuracy = dtc_model_mls.score(X_test_malaysia, y_test_malaysia)\n",
        "print(\"Test accuracy:\", test_accuracy)"
      ],
      "metadata": {
        "colab": {
          "base_uri": "https://localhost:8080/"
        },
        "id": "FZrPA4LOlGlt",
        "outputId": "3058e1dd-9be8-4fc0-a56c-7658eea897b3"
      },
      "execution_count": 64,
      "outputs": [
        {
          "output_type": "stream",
          "name": "stdout",
          "text": [
            "The accuracy score after 5 folds is: 0.5826252294781012\n",
            "Test accuracy: 0.6086956521739131\n"
          ]
        }
      ]
    },
    {
      "cell_type": "code",
      "source": [
        "# Evaluation\n",
        "print('\\nEvaluation on test data:')\n",
        "print('Accuracy Score: {:.2f}%'.format(accuracy_score(y_test_malaysia, y_predict_malaysia) * 100))\n",
        "print('Recall Score: {:.2f}%'.format(recall_score(y_test_malaysia, y_predict_malaysia) * 100))\n",
        "print('ROC AUC Score: {:.2f}%'.format(roc_auc_score(y_test_malaysia, y_predict_malaysia) * 100))\n",
        "\n",
        "# Confusion matrix visualization\n",
        "cm = confusion_matrix(y_test_malaysia, y_predict_malaysia)\n",
        "plt.figure(figsize=(8, 6))\n",
        "sns.heatmap(cm, annot=True, cmap='Reds', fmt='d')\n",
        "plt.xlabel('Predicted')\n",
        "plt.ylabel('Actual')\n",
        "plt.title('Confusion Matrix - Tuned Decision Tree')\n",
        "plt.show()\n"
      ],
      "metadata": {
        "colab": {
          "base_uri": "https://localhost:8080/",
          "height": 651
        },
        "id": "mD1chN7onkev",
        "outputId": "36c765e0-8a70-41c2-a2bd-70858292d59f"
      },
      "execution_count": 65,
      "outputs": [
        {
          "output_type": "stream",
          "name": "stdout",
          "text": [
            "\n",
            "Evaluation on test data:\n",
            "Accuracy Score: 60.87%\n",
            "Recall Score: 70.97%\n",
            "ROC AUC Score: 61.80%\n"
          ]
        },
        {
          "output_type": "display_data",
          "data": {
            "text/plain": [
              "<Figure size 800x600 with 2 Axes>"
            ],
            "image/png": "[encoded data removed]"
          },
          "metadata": {}
        }
      ]
    },
    {
      "cell_type": "markdown",
      "source": [
        "##Random Forest Classification"
      ],
      "metadata": {
        "id": "bjG5ktJWoMg-"
      }
    },
    {
      "cell_type": "code",
      "source": [
        "rmf_mls = RandomForestClassifier(class_weight='balanced',max_depth=3,random_state=0)\n",
        "rmf_model_mls = rmf_mls.fit(X_train_malaysia,y_train_malaysia)"
      ],
      "metadata": {
        "id": "wk1Al4r8oSg-"
      },
      "execution_count": 66,
      "outputs": []
    },
    {
      "cell_type": "code",
      "source": [
        "y_predict_malaysia = rmf_model_mls.predict(X_test_malaysia)\n",
        "\n",
        "print(\"Actual Flood Values:\")\n",
        "print(y_test_malaysia.values)\n",
        "\n",
        "print(\"Predicted Flood Values:\")\n",
        "print(y_predict_malaysia)"
      ],
      "metadata": {
        "colab": {
          "base_uri": "https://localhost:8080/"
        },
        "id": "hi57rn1Pob_E",
        "outputId": "7bf02208-ebd8-4fe7-e52a-cfbe79a15c03"
      },
      "execution_count": 67,
      "outputs": [
        {
          "output_type": "stream",
          "name": "stdout",
          "text": [
            "Actual Flood Values:\n",
            "[1 1 0 1 0 1 0 1 0 0 0 1 0 1 0 0 0 1 0 0 0 1 0 0 0 0 1 1 1 1 0 0 0 1 0 0 1\n",
            " 1 0 1 0 1 1 0 0 0 0 0 0 0 1 0 0 0 1 0 0 1 1 0 1 0 1 0 0 0 1 0 1 0 1 0 0 1\n",
            " 1 1 0 0 1 1 0 1 1 0 0 1 0 1 0 1 1 1 1 0 0 0 0 0 1 0 0 1 1 0 0 1 0 0 1 1 1\n",
            " 1 0 0 1 1 0 1 1 1 1 0 0 1 0 1 1 0 1 1 0 1 1 0 0 0 0 0 1 0 0 0 1 0 0 0 0 0\n",
            " 0 0 0 1 0 1 0 0 1 1 0 1 1 1 0 1 1 1 1 1 1 0 1 1 1 0 1 0 0 0 0 1 1 1 0 1 0\n",
            " 1 0 0 0 1 0 0 1 1 0 0 1 0 0 0 0 1 1 0 0 0 1]\n",
            "Predicted Flood Values:\n",
            "[0 1 1 1 0 1 0 1 1 1 0 1 0 1 0 1 1 1 0 1 0 1 0 1 1 0 1 1 0 1 1 1 0 1 1 0 1\n",
            " 1 0 1 1 1 1 0 0 1 0 0 0 0 0 0 1 0 1 0 0 0 1 1 0 1 0 0 0 0 0 1 1 1 1 0 0 1\n",
            " 0 0 0 1 1 1 1 1 0 1 0 1 0 1 0 0 1 1 1 0 0 0 0 0 0 1 0 1 1 1 0 0 1 0 1 1 0\n",
            " 1 1 0 1 1 1 0 1 1 0 0 0 1 1 0 1 0 1 1 1 1 1 1 0 0 0 0 0 0 0 0 1 0 0 1 1 0\n",
            " 0 1 1 1 0 1 0 0 1 0 0 1 1 1 1 0 0 1 0 0 1 1 0 1 1 0 1 0 1 0 0 1 1 1 1 0 0\n",
            " 0 0 1 1 1 0 1 1 1 0 1 0 1 1 1 0 1 1 0 0 1 1]\n"
          ]
        }
      ]
    },
    {
      "cell_type": "code",
      "source": [
        "rmf_acc1 = cross_val_score(rmf_model_mls,X_train_malaysia,y_train_malaysia,cv=5,scoring=\"accuracy\",n_jobs=-1)\n",
        "print('The accuracy score after 5 folds is:', rmf_acc1.mean())\n",
        "\n",
        "test_accuracy = rmf_model_mls.score(X_test_malaysia, y_test_malaysia)\n",
        "print(\"Test accuracy:\", test_accuracy)"
      ],
      "metadata": {
        "colab": {
          "base_uri": "https://localhost:8080/"
        },
        "id": "_FjiEfZJohXj",
        "outputId": "3e50a603-db1e-4edc-8c0c-49f4ac22737c"
      },
      "execution_count": 68,
      "outputs": [
        {
          "output_type": "stream",
          "name": "stdout",
          "text": [
            "The accuracy score after 5 folds is: 0.626304746918437\n",
            "Test accuracy: 0.6521739130434783\n"
          ]
        }
      ]
    },
    {
      "cell_type": "code",
      "source": [
        "print('\\nEvaluation on test data:')\n",
        "print('Accuracy Score: {:.2f}%'.format(accuracy_score(y_test_malaysia, y_predict_malaysia) * 100))\n",
        "print('Recall Score: {:.2f}%'.format(recall_score(y_test_malaysia, y_predict_malaysia) * 100))\n",
        "print('ROC AUC Score (prob): {:.2f}%'.format(roc_auc_score(y_test_malaysia, y_predict_malaysia) * 100))\n",
        "\n",
        "cm = confusion_matrix(y_test_malaysia, y_predict_malaysia)\n",
        "plt.figure(figsize=(8, 6))\n",
        "sns.heatmap(cm, annot=True, cmap='Reds', fmt='d')\n",
        "plt.xlabel('Predicted')\n",
        "plt.ylabel('Actual')\n",
        "plt.title('Confusion Matrix - Tuned Random Forest')\n",
        "plt.show()"
      ],
      "metadata": {
        "colab": {
          "base_uri": "https://localhost:8080/",
          "height": 651
        },
        "id": "bUx8sgbbo5A6",
        "outputId": "5bc88c1e-2359-44cc-ff1c-2ca8c461cbbf"
      },
      "execution_count": 69,
      "outputs": [
        {
          "output_type": "stream",
          "name": "stdout",
          "text": [
            "\n",
            "Evaluation on test data:\n",
            "Accuracy Score: 65.22%\n",
            "Recall Score: 70.97%\n",
            "ROC AUC Score (prob): 65.75%\n"
          ]
        },
        {
          "output_type": "display_data",
          "data": {
            "text/plain": [
              "<Figure size 800x600 with 2 Axes>"
            ],
            "image/png": "[encoded data removed]"
          },
          "metadata": {}
        }
      ]
    },
    {
      "cell_type": "markdown",
      "source": [
        "##Naive Bayes"
      ],
      "metadata": {
        "id": "fm2x17nLpMCC"
      }
    },
    {
      "cell_type": "code",
      "source": [
        "nb_mls = BernoulliNB(alpha=1.0)\n",
        "nb_model_mls = nb_mls.fit(X_train_binarized, y_train_malaysia)\n",
        "\n",
        "# instead of CV on the test set, do one hold-out accuracy:"
      ],
      "metadata": {
        "id": "pxhtk8xOpNpK"
      },
      "execution_count": 70,
      "outputs": []
    },
    {
      "cell_type": "code",
      "source": [
        "y_predict_malaysia=nb_model_mls.predict(X_test_binarized)\n",
        "\n",
        "print(\"Actual Flood Values:\")\n",
        "print(y_test_malaysia.values)\n",
        "\n",
        "print(\"Predicted Flood Values:\")\n",
        "print(y_predict_malaysia)"
      ],
      "metadata": {
        "colab": {
          "base_uri": "https://localhost:8080/"
        },
        "id": "mOHOXKIwpzZK",
        "outputId": "42e85366-0920-42af-b649-d396782ac219"
      },
      "execution_count": 71,
      "outputs": [
        {
          "output_type": "stream",
          "name": "stdout",
          "text": [
            "Actual Flood Values:\n",
            "[1 1 0 1 0 1 0 1 0 0 0 1 0 1 0 0 0 1 0 0 0 1 0 0 0 0 1 1 1 1 0 0 0 1 0 0 1\n",
            " 1 0 1 0 1 1 0 0 0 0 0 0 0 1 0 0 0 1 0 0 1 1 0 1 0 1 0 0 0 1 0 1 0 1 0 0 1\n",
            " 1 1 0 0 1 1 0 1 1 0 0 1 0 1 0 1 1 1 1 0 0 0 0 0 1 0 0 1 1 0 0 1 0 0 1 1 1\n",
            " 1 0 0 1 1 0 1 1 1 1 0 0 1 0 1 1 0 1 1 0 1 1 0 0 0 0 0 1 0 0 0 1 0 0 0 0 0\n",
            " 0 0 0 1 0 1 0 0 1 1 0 1 1 1 0 1 1 1 1 1 1 0 1 1 1 0 1 0 0 0 0 1 1 1 0 1 0\n",
            " 1 0 0 0 1 0 0 1 1 0 0 1 0 0 0 0 1 1 0 0 0 1]\n",
            "Predicted Flood Values:\n",
            "[0 0 0 0 0 1 0 0 1 0 0 1 0 0 0 0 0 0 0 1 0 0 0 0 1 0 1 1 0 0 0 0 0 1 0 0 1\n",
            " 1 0 0 1 1 0 0 1 1 0 0 0 0 0 0 1 0 1 0 0 0 1 0 0 0 0 0 0 0 0 0 1 1 0 0 0 0\n",
            " 0 0 0 0 0 1 0 1 0 1 0 0 0 1 0 0 1 1 1 0 0 0 0 0 0 1 0 1 1 1 0 0 0 0 0 1 1\n",
            " 1 1 0 0 0 1 0 0 1 0 0 0 1 1 0 0 0 0 0 0 0 1 1 0 0 0 0 0 0 0 0 1 0 0 0 1 0\n",
            " 0 0 0 0 0 1 0 0 0 0 0 0 1 0 1 0 0 1 0 0 1 1 0 1 1 0 1 0 1 0 0 1 0 1 1 1 0\n",
            " 0 0 1 0 1 0 1 0 1 0 1 0 1 1 0 0 1 1 0 1 0 0]\n"
          ]
        }
      ]
    },
    {
      "cell_type": "code",
      "source": [
        "nb_accuracy1 = cross_val_score(nb_model_mls,X_train_binarized,y_train_malaysia,cv=5,scoring='accuracy',n_jobs=-1)\n",
        "print('The accuracy score after 5 folds is:',nb_accuracy1.mean())\n",
        "\n",
        "test_accuracy = nb_model_mls.score(X_test_binarized, y_test_malaysia)\n",
        "print('Test accuracy:', test_accuracy)"
      ],
      "metadata": {
        "colab": {
          "base_uri": "https://localhost:8080/"
        },
        "id": "xZaaWBa2p0GJ",
        "outputId": "bacb56af-e89f-4bc0-d29c-70b91e6a959b"
      },
      "execution_count": 72,
      "outputs": [
        {
          "output_type": "stream",
          "name": "stdout",
          "text": [
            "The accuracy score after 5 folds is: 0.6265014424337793\n",
            "Test accuracy: 0.6183574879227053\n"
          ]
        }
      ]
    },
    {
      "cell_type": "code",
      "source": [
        "print('\\nAccuracy Score: {:.2f}%'.format(accuracy_score(y_test_malaysia, y_predict_malaysia) * 100))\n",
        "print('Recall Score: {:.2f}%'.format(recall_score(y_test_malaysia, y_predict_malaysia) * 100))\n",
        "print('ROC AUC Score: {:.2f}%'.format(roc_auc_score(y_test_malaysia, y_predict_malaysia) * 100))\n",
        "\n",
        "# Create a confusion matrix\n",
        "cm = confusion_matrix(y_test_malaysia, y_predict_malaysia)\n",
        "\n",
        "# Create a heatmap for the confusion matrix\n",
        "plt.figure(figsize=(8, 6))\n",
        "sns.heatmap(cm, annot=True, cmap='Reds', fmt='d')\n",
        "plt.xlabel('Predicted')\n",
        "plt.ylabel('Actual')\n",
        "plt.title('NB Confusion Matrix')\n",
        "plt.show()"
      ],
      "metadata": {
        "colab": {
          "base_uri": "https://localhost:8080/",
          "height": 633
        },
        "id": "PcnQcK5WqS5B",
        "outputId": "b1f124e7-9e4a-443e-a0f7-2e11fd088102"
      },
      "execution_count": 73,
      "outputs": [
        {
          "output_type": "stream",
          "name": "stdout",
          "text": [
            "\n",
            "Accuracy Score: 61.84%\n",
            "Recall Score: 43.01%\n",
            "ROC AUC Score: 60.10%\n"
          ]
        },
        {
          "output_type": "display_data",
          "data": {
            "text/plain": [
              "<Figure size 800x600 with 2 Axes>"
            ],
            "image/png": "[encoded data removed]"
          },
          "metadata": {}
        }
      ]
    },
    {
      "cell_type": "markdown",
      "source": [
        "##Ensemble Learning"
      ],
      "metadata": {
        "id": "oxtOCk2-vu8A"
      }
    },
    {
      "cell_type": "code",
      "source": [
        "# Scaled pipelines\n",
        "knn_pipe_mls = Pipeline([('scaler', StandardScaler()), ('knn', KNeighborsClassifier())])\n",
        "lr_pipe_mls = Pipeline([('scaler', StandardScaler()), ('lr', LogisticRegression())])\n",
        "svc_pipe_mls = Pipeline([('scaler', StandardScaler()), ('svc', SVC(probability=True))])\n",
        "\n",
        "# Ensemble\n",
        "ensemble1 = VotingClassifier(\n",
        "    estimators=[\n",
        "        ('knn', knn_pipe_mls),\n",
        "        ('lr', lr_pipe_mls),\n",
        "        ('svc', svc_pipe_mls),\n",
        "        ('rf', rmf_model_mls)\n",
        "    ],\n",
        "    voting='soft'  # use 'hard' for majority vote\n",
        ")"
      ],
      "metadata": {
        "id": "73X6PAVkHmAq"
      },
      "execution_count": 74,
      "outputs": []
    },
    {
      "cell_type": "code",
      "source": [
        "#fit model to training data\n",
        "ensemble1.fit(X_train_malaysia, y_train_malaysia)\n",
        "\n",
        "#test our model on the test data\n",
        "ensemble1.score(X_test_malaysia, y_test_malaysia)"
      ],
      "metadata": {
        "id": "-MYBGjdTvw8Z",
        "colab": {
          "base_uri": "https://localhost:8080/"
        },
        "outputId": "97d9f899-637b-439b-9623-d832a5263d9a"
      },
      "execution_count": 75,
      "outputs": [
        {
          "output_type": "execute_result",
          "data": {
            "text/plain": [
              "0.6618357487922706"
            ]
          },
          "metadata": {},
          "execution_count": 75
        }
      ]
    },
    {
      "cell_type": "code",
      "source": [
        "scores = cross_val_score(ensemble1, X_train_malaysia, y_train_malaysia, cv=5)\n",
        "print(\"CV Accuracy:\", scores.mean())"
      ],
      "metadata": {
        "id": "vNp0Kiprv0ws",
        "colab": {
          "base_uri": "https://localhost:8080/"
        },
        "outputId": "4971ea2e-fa10-4252-f1ce-40867771abd8"
      },
      "execution_count": 76,
      "outputs": [
        {
          "output_type": "stream",
          "name": "stdout",
          "text": [
            "CV Accuracy: 0.6165093102543928\n"
          ]
        }
      ]
    },
    {
      "cell_type": "markdown",
      "source": [
        "##Comparison\n"
      ],
      "metadata": {
        "id": "VocADWNltckF"
      }
    },
    {
      "cell_type": "code",
      "source": [
        "models = []\n",
        "models.append(('KNN', KNeighborsClassifier()))\n",
        "models.append(('LR',lr_model ))\n",
        "models.append(('SVC',svc_model))\n",
        "models.append(('DT', dtc_model))\n",
        "models.append(('RF', rmf_model))\n",
        "models.append(('NB', BernoulliNB()))\n",
        "models.append(('EL', ensemble))\n",
        "\n",
        "namaModel = []\n",
        "hasilModel = []\n",
        "\n",
        "# Train and test the models\n",
        "for name, model in models:\n",
        "    if name == 'LR' or name == 'SVC' or name == 'KNN':  # LR models use standardized data\n",
        "        model.fit(X_train_sc, y_train)\n",
        "        y_predict = model.predict(X_test_sc)\n",
        "    elif name == 'NB':\n",
        "        # FIXED: use binarized data and original labels\n",
        "        model.fit(X_train_bin, y_train)\n",
        "        y_predict = model.predict(X_test_bin)\n",
        "    else:\n",
        "        model.fit(X_train, y_train)\n",
        "        y_predict = model.predict(X_test)\n",
        "\n",
        "    hasilModel.append(accuracy_score(y_test, y_predict))\n",
        "    namaModel.append(name)\n",
        "\n",
        "tr_split = pd.DataFrame({'Name': namaModel, 'Score': hasilModel})\n",
        "print(tr_split)"
      ],
      "metadata": {
        "id": "HE74Y-7atnu3",
        "colab": {
          "base_uri": "https://localhost:8080/"
        },
        "outputId": "e90495ad-3636-4885-bfe9-124c85500bfd"
      },
      "execution_count": 77,
      "outputs": [
        {
          "output_type": "stream",
          "name": "stdout",
          "text": [
            "  Name     Score\n",
            "0  KNN  0.900000\n",
            "1   LR  1.000000\n",
            "2  SVC  0.966667\n",
            "3   DT  1.000000\n",
            "4   RF  1.000000\n",
            "5   NB  0.600000\n",
            "6   EL  1.000000\n"
          ]
        }
      ]
    },
    {
      "cell_type": "code",
      "source": [
        "models1 = []\n",
        "models1.append(('KNN', KNeighborsClassifier()))\n",
        "models1.append(('LR',lr_model_mls ))\n",
        "models1.append(('SVC',svc_model_mls))\n",
        "models1.append(('DT', dtc_model_mls))\n",
        "models1.append(('RF', rmf_model_mls))\n",
        "models1.append(('NB', BernoulliNB()))\n",
        "models1.append(('EL', ensemble1))\n",
        "\n",
        "namaModel = []\n",
        "hasilModel = []\n",
        "\n",
        "# Train and test the models\n",
        "for name, model1 in models1:\n",
        "    if name == 'LR' or name == 'SVC' or name == 'KNN':  # LR models use standardized data\n",
        "        model1.fit(X_train_malaysia_scaled, y_train_malaysia_smote)\n",
        "        y_predict_mls = model1.predict(X_test_malaysia_scaled)\n",
        "    elif name == 'NB':\n",
        "        # FIXED: use binarized data and original labels\n",
        "        model1.fit(X_train_binarized, y_train_malaysia)\n",
        "        y_predict_mls = model1.predict(X_test_binarized)\n",
        "    else:\n",
        "        model1.fit(X_train_malaysia, y_train_malaysia)\n",
        "        y_predict_mls = model1.predict(X_test_malaysia)\n",
        "\n",
        "    hasilModel.append(accuracy_score(y_test_malaysia, y_predict_mls))\n",
        "    namaModel.append(name)\n",
        "\n",
        "tr_split_mls = pd.DataFrame({'Name': namaModel, 'Score': hasilModel})\n",
        "print(tr_split_mls)"
      ],
      "metadata": {
        "id": "TKp7bLfzFKti",
        "colab": {
          "base_uri": "https://localhost:8080/"
        },
        "outputId": "b86bd832-6e5e-4d37-9747-e2261bc47a9f"
      },
      "execution_count": 78,
      "outputs": [
        {
          "output_type": "stream",
          "name": "stdout",
          "text": [
            "  Name     Score\n",
            "0  KNN  0.729469\n",
            "1   LR  0.685990\n",
            "2  SVC  0.657005\n",
            "3   DT  0.608696\n",
            "4   RF  0.652174\n",
            "5   NB  0.618357\n",
            "6   EL  0.657005\n"
          ]
        }
      ]
    },
    {
      "cell_type": "code",
      "source": [
        "# Step 1: Add a label for each dataset\n",
        "tr_split['Dataset'] = 'Kerala'\n",
        "tr_split_mls['Dataset'] = 'Malaysia'\n",
        "# Step 2: Combine both into one DataFrame\n",
        "combined_plot = pd.concat([tr_split, tr_split_mls], ignore_index=True)\n",
        "plt.figure(figsize=(10, 6))\n",
        "axis = sns.barplot(x='Name', y='Score', hue='Dataset', data=combined_plot, palette='Set2')\n",
        "\n",
        "# Add accuracy labels on top of each bar\n",
        "for i, p in enumerate(axis.patches[:len(combined_plot)]):\n",
        "    height = p.get_height()\n",
        "    # Set a minimum height for zero bars to make the label visible\n",
        "    label_y = height + 0.01 if height > 0 else 0.03\n",
        "    axis.text(\n",
        "        p.get_x() + p.get_width() / 2,\n",
        "        label_y,\n",
        "        '{:1.4f}'.format(height),\n",
        "        ha='center',\n",
        "        va='bottom',\n",
        "        fontsize=9,\n",
        "        color='black'\n",
        "    )\n",
        "# Label and formatting\n",
        "axis.set(xlabel='Classifier', ylabel='Accuracy', title='Accuracy Comparison')\n",
        "\n",
        "# Fix y-axis to give enough room at the bottom\n",
        "axis.set_ylim(0, 1.05)\n",
        "\n",
        "plt.legend(title='Dataset')\n",
        "plt.tight_layout()\n",
        "plt.show()"
      ],
      "metadata": {
        "colab": {
          "base_uri": "https://localhost:8080/",
          "height": 607
        },
        "id": "u0pHsP38rvem",
        "outputId": "e029a35a-252b-4130-8c75-05b053f2d0fb"
      },
      "execution_count": 79,
      "outputs": [
        {
          "output_type": "display_data",
          "data": {
            "text/plain": [
              "<Figure size 1000x600 with 1 Axes>"
            ],
            "image/png": "[encoded data removed]"
          },
          "metadata": {}
        }
      ]
    },
    {
      "cell_type": "markdown",
      "source": [
        "We will select the **top 3** highest-performing models to train, test, and evaluate combination of Kerala and Malaysia dataset which is KNN Classifier, logistics regression and ensemble learning."
      ],
      "metadata": {
        "id": "7H5aBC7NuHSi"
      }
    },
    {
      "cell_type": "markdown",
      "source": [
        "#Modelling for combination"
      ],
      "metadata": {
        "id": "v1l5feWev5sg"
      }
    },
    {
      "cell_type": "markdown",
      "source": [
        "##KNN Classifier"
      ],
      "metadata": {
        "id": "utwAqUfqv90I"
      }
    },
    {
      "cell_type": "code",
      "source": [
        "model_combine = neighbors.KNeighborsClassifier()\n",
        "knn_model_com = model_combine.fit(X_train_combine_scaled,y_train_combine_smote)"
      ],
      "metadata": {
        "id": "3VI1qA4FwAMh"
      },
      "execution_count": 80,
      "outputs": []
    },
    {
      "cell_type": "code",
      "source": [
        "# Make predictions for x_test\n",
        "y_predict_combine = knn_model_com.predict(X_test_combine_scaled)\n",
        "\n",
        "print('Predicted chances of flood')\n",
        "print(y_predict_combine)\n",
        "\n",
        "# Check the actual values\n",
        "print(\"actual values of floods:\")\n",
        "print(y_test_combine.values)"
      ],
      "metadata": {
        "id": "LwfGoZydwG7o",
        "colab": {
          "base_uri": "https://localhost:8080/"
        },
        "outputId": "e8d9e608-66f6-4d7b-c7a3-ce23e785715c"
      },
      "execution_count": 81,
      "outputs": [
        {
          "output_type": "stream",
          "name": "stdout",
          "text": [
            "Predicted chances of flood\n",
            "[1 1 0 1 1 1 1 0 1 1 1 0 0 0 0 1 0 1 0 1 0 0 0 1 0 0 0 1 1 0 0 0 1 0 1 0 0\n",
            " 0 1 0 0 1 1 1 1 1 0 0 0 0 0 0 1 1 0 0 0 0 0 1 1 0 1 1 1 0 1 0 1 0 1 0 1 0\n",
            " 1 1 0 1 1 1 1 1 1 1 0 1 0 0 1 0 1 1 1 0 0 1 1 0 0 0 1 0 0 0 1 1 1 1 1 0 0\n",
            " 0 1 0 0 1 1 1 1 0 0 1 1 1 0 1 0 1 0 1 0 0 1 0 0 0 1 0 0 1 1 0 0 0 0 0 0 0\n",
            " 1 1 0 1 0 1 0 1 1 1 0 0 0 1 0 1 0 0 0 0 1 1 1 0 1 0 1 0 0 1 0 0 1 0 1 1 0\n",
            " 0 0 1 1 1 0 0 0 1 1 0 0 1 1 1 0 1 1 0 0 1 1 0 0 1 1 0 1 0 1 0 1 1 1 1 1 0\n",
            " 0 0 0 1 1 0 0 1 0 0 0 0 1 0]\n",
            "actual values of floods:\n",
            "[1 1 0 1 1 1 1 1 1 1 1 0 1 0 0 0 0 1 0 1 0 1 0 1 0 0 1 1 0 1 1 0 1 0 0 1 0\n",
            " 0 1 0 0 1 1 0 1 0 0 1 0 0 1 0 1 0 0 0 0 0 0 0 1 0 1 0 1 1 1 1 0 0 0 0 0 1\n",
            " 0 0 1 0 0 1 1 1 1 1 0 1 0 0 1 0 1 1 1 1 0 1 1 0 1 0 1 0 0 1 0 1 1 0 1 1 0\n",
            " 0 0 0 1 1 1 1 1 0 0 1 0 1 1 0 1 1 1 1 0 0 0 0 0 0 0 1 0 0 1 1 0 1 1 0 0 1\n",
            " 1 0 0 0 0 1 0 0 1 1 0 0 0 0 1 1 1 1 1 0 1 1 1 0 1 0 0 0 0 1 0 0 1 1 0 1 0\n",
            " 0 1 1 1 1 0 0 1 1 0 1 0 0 1 1 0 1 1 0 1 0 1 1 1 0 0 0 0 0 1 0 0 0 1 0 1 1\n",
            " 0 1 0 1 0 1 1 1 1 0 0 0 1 0]\n"
          ]
        }
      ]
    },
    {
      "cell_type": "code",
      "source": [
        "knn_accuracy_com = cross_val_score(knn_model_com, X_train_combine_scaled, y_train_combine_smote, cv=5, scoring='accuracy', n_jobs=-1)\n",
        "print('The accuracy score after 5 folds is:', knn_accuracy_com.mean())\n",
        "\n",
        "test_accuracy_com = knn_model_com.score(X_test_combine_scaled, y_test_combine)\n",
        "print(\"Test accuracy:\", test_accuracy_com)"
      ],
      "metadata": {
        "id": "vNn_hUJOwIVg",
        "colab": {
          "base_uri": "https://localhost:8080/"
        },
        "outputId": "d7234158-4ed7-4c04-a851-d4890984c42d"
      },
      "execution_count": 82,
      "outputs": [
        {
          "output_type": "stream",
          "name": "stdout",
          "text": [
            "The accuracy score after 5 folds is: 0.7242478897626434\n",
            "Test accuracy: 0.6567796610169492\n"
          ]
        }
      ]
    },
    {
      "cell_type": "code",
      "source": [
        "print('\\nAccuracy Score: {:.2f}%'.format(accuracy_score(y_test_combine, y_predict_combine) * 100))\n",
        "print('Recall Score: {:.2f}%'.format(recall_score(y_test_combine, y_predict_combine) * 100))\n",
        "print('ROC AUC Score: {:.2f}%'.format(roc_auc_score(y_test_combine, y_predict_combine) * 100))\n",
        "\n",
        "# Create a confusion matrix\n",
        "cm = confusion_matrix(y_test_combine, y_predict_combine)\n",
        "\n",
        "# Create a heatmap for the confusion matrix\n",
        "plt.figure(figsize=(8, 6))\n",
        "sns.heatmap(cm, annot=True, cmap='Reds', fmt='d')\n",
        "plt.xlabel('Predicted')\n",
        "plt.ylabel('Actual')\n",
        "plt.title('Confusion Matrix')\n",
        "plt.show()"
      ],
      "metadata": {
        "id": "kt9bcBhBwNlz",
        "colab": {
          "base_uri": "https://localhost:8080/",
          "height": 633
        },
        "outputId": "4cabbe7a-b3f2-42d3-a603-c5b9a3ec92d8"
      },
      "execution_count": 83,
      "outputs": [
        {
          "output_type": "stream",
          "name": "stdout",
          "text": [
            "\n",
            "Accuracy Score: 65.68%\n",
            "Recall Score: 64.10%\n",
            "ROC AUC Score: 65.66%\n"
          ]
        },
        {
          "output_type": "display_data",
          "data": {
            "text/plain": [
              "<Figure size 800x600 with 2 Axes>"
            ],
            "image/png": "[encoded data removed]"
          },
          "metadata": {}
        }
      ]
    },
    {
      "cell_type": "markdown",
      "source": [
        "##Logistics Regression"
      ],
      "metadata": {
        "id": "8WOTkyhzwRUw"
      }
    },
    {
      "cell_type": "code",
      "source": [
        "lr_com = LogisticRegression(max_iter=1000)\n",
        "lr_model_com = lr_com.fit(X_train_combine_scaled,y_train_combine_smote)"
      ],
      "metadata": {
        "id": "mPUAl9xzwTuw"
      },
      "execution_count": 84,
      "outputs": []
    },
    {
      "cell_type": "code",
      "source": [
        "y_predict_com = lr_model_com.predict(X_test_combine_scaled)\n",
        "\n",
        "print('Predicted chances of flood')\n",
        "print(y_predict_com)\n",
        "\n",
        "print('Actual chances of flood')\n",
        "print(y_test_combine.values)"
      ],
      "metadata": {
        "id": "xiNx70PzxCGf",
        "colab": {
          "base_uri": "https://localhost:8080/"
        },
        "outputId": "85ed8908-58cc-4e93-f278-d5a96b83a918"
      },
      "execution_count": 85,
      "outputs": [
        {
          "output_type": "stream",
          "name": "stdout",
          "text": [
            "Predicted chances of flood\n",
            "[1 0 0 1 1 1 0 1 0 1 1 1 0 0 0 1 0 1 0 1 0 1 1 1 1 0 0 1 0 1 1 0 0 1 0 1 0\n",
            " 0 1 0 1 1 1 1 1 0 0 1 1 0 0 1 1 0 0 0 0 0 0 1 1 0 0 1 1 1 1 0 1 1 1 0 1 1\n",
            " 1 1 0 1 0 1 1 1 0 0 1 1 1 0 0 0 1 0 0 0 0 0 1 0 0 0 1 0 0 1 1 0 1 0 0 1 0\n",
            " 0 0 1 0 0 1 1 0 0 1 1 0 0 1 1 0 0 1 0 1 0 0 0 1 0 0 0 1 1 0 1 0 0 0 0 0 1\n",
            " 1 1 1 0 0 0 1 1 1 0 1 1 0 1 0 0 0 1 0 1 1 1 0 1 1 0 0 1 0 1 0 1 0 0 1 0 0\n",
            " 0 1 1 1 0 1 0 1 1 0 1 0 0 1 0 1 0 0 0 1 0 1 0 0 0 0 1 1 1 1 1 1 1 0 1 1 0\n",
            " 0 0 0 0 1 1 1 1 1 1 0 1 0 0]\n",
            "Actual chances of flood\n",
            "[1 1 0 1 1 1 1 1 1 1 1 0 1 0 0 0 0 1 0 1 0 1 0 1 0 0 1 1 0 1 1 0 1 0 0 1 0\n",
            " 0 1 0 0 1 1 0 1 0 0 1 0 0 1 0 1 0 0 0 0 0 0 0 1 0 1 0 1 1 1 1 0 0 0 0 0 1\n",
            " 0 0 1 0 0 1 1 1 1 1 0 1 0 0 1 0 1 1 1 1 0 1 1 0 1 0 1 0 0 1 0 1 1 0 1 1 0\n",
            " 0 0 0 1 1 1 1 1 0 0 1 0 1 1 0 1 1 1 1 0 0 0 0 0 0 0 1 0 0 1 1 0 1 1 0 0 1\n",
            " 1 0 0 0 0 1 0 0 1 1 0 0 0 0 1 1 1 1 1 0 1 1 1 0 1 0 0 0 0 1 0 0 1 1 0 1 0\n",
            " 0 1 1 1 1 0 0 1 1 0 1 0 0 1 1 0 1 1 0 1 0 1 1 1 0 0 0 0 0 1 0 0 0 1 0 1 1\n",
            " 0 1 0 1 0 1 1 1 1 0 0 0 1 0]\n"
          ]
        }
      ]
    },
    {
      "cell_type": "code",
      "source": [
        "lr_accuracy_com = cross_val_score(lr_model_com,X_train_combine_scaled,y_train_combine_smote,cv=5,scoring='accuracy',n_jobs=-1)\n",
        "print('The accuracy score after 5 folds is:', lr_accuracy_com.mean())\n",
        "\n",
        "test_accuracy = lr_model_com.score(X_test_combine_scaled, y_test_combine)\n",
        "print('Test accuracy:', test_accuracy)"
      ],
      "metadata": {
        "id": "9KDRXEqBxHXY",
        "colab": {
          "base_uri": "https://localhost:8080/"
        },
        "outputId": "83472eb8-3fd6-416b-b1aa-96d782aeeaff"
      },
      "execution_count": 86,
      "outputs": [
        {
          "output_type": "stream",
          "name": "stdout",
          "text": [
            "The accuracy score after 5 folds is: 0.5431426304018468\n",
            "Test accuracy: 0.559322033898305\n"
          ]
        }
      ]
    },
    {
      "cell_type": "code",
      "source": [
        "print('\\nAccuracy Score: {:.2f}%'.format(accuracy_score(y_test_combine, y_predict_com) * 100))\n",
        "print('Recall Score: {:.2f}%'.format(recall_score(y_test_combine, y_predict_com) * 100))\n",
        "print('ROC AUC Score: {:.2f}%'.format(roc_auc_score(y_test_combine, y_predict_com) * 100))\n",
        "\n",
        "# Create a confusion matrix\n",
        "cm = confusion_matrix(y_test_combine, y_predict_com)\n",
        "\n",
        "# Create a heatmap for the confusion matrix\n",
        "plt.figure(figsize=(8, 6))\n",
        "sns.heatmap(cm, annot=True, cmap='Reds', fmt='d')\n",
        "plt.xlabel('Predicted')\n",
        "plt.ylabel('Actual')\n",
        "plt.title('Confusion Matrix')\n",
        "plt.show()"
      ],
      "metadata": {
        "id": "OdUpI5q1xQ7_",
        "colab": {
          "base_uri": "https://localhost:8080/",
          "height": 633
        },
        "outputId": "34cf27ff-6927-4fe1-e987-03f8c68f765a"
      },
      "execution_count": 87,
      "outputs": [
        {
          "output_type": "stream",
          "name": "stdout",
          "text": [
            "\n",
            "Accuracy Score: 55.93%\n",
            "Recall Score: 55.56%\n",
            "ROC AUC Score: 55.93%\n"
          ]
        },
        {
          "output_type": "display_data",
          "data": {
            "text/plain": [
              "<Figure size 800x600 with 2 Axes>"
            ],
            "image/png": "[encoded data removed]"
          },
          "metadata": {}
        }
      ]
    },
    {
      "cell_type": "markdown",
      "source": [
        "##Ensemble Learning"
      ],
      "metadata": {
        "id": "V8x72FuEBbSZ"
      }
    },
    {
      "cell_type": "code",
      "source": [
        "feature_names = X.columns.tolist()  # your original column names\n",
        "X_train_combine_df = pd.DataFrame(X_train_combine, columns=feature_names)\n",
        "X_test_combine_df = pd.DataFrame(X_test_combine, columns=feature_names)\n",
        "\n",
        "# Scaled pipelines\n",
        "knn_pipe_com = Pipeline([('scaler', MinMaxScaler()), ('knn', KNeighborsClassifier())])\n",
        "lr_pipe_com = Pipeline([('scaler', MinMaxScaler()), ('lr', LogisticRegression())])\n",
        "svc_pipe_com = Pipeline([('scaler', MinMaxScaler()), ('svc', SVC(probability=True))])\n",
        "rf_pipe_com = Pipeline([('identity', 'passthrough'), ('rf', RandomForestClassifier(class_weight='balanced', max_depth=3, random_state=0))])\n",
        "\n",
        "\n",
        "rmf_com = RandomForestClassifier(class_weight='balanced',max_depth=3,random_state=0)\n",
        "\n",
        "# Ensemble\n",
        "ensemble_com = VotingClassifier(\n",
        "    estimators=[\n",
        "        ('knn', knn_pipe_com),\n",
        "        ('lr', lr_pipe_com),\n",
        "        ('svc', svc_pipe_com),\n",
        "        ('rf', rf_pipe_com)\n",
        "    ],\n",
        "    voting='soft'  # use 'hard' for majority vote\n",
        ")"
      ],
      "metadata": {
        "id": "gcR_p-AxBXLR"
      },
      "execution_count": 88,
      "outputs": []
    },
    {
      "cell_type": "code",
      "source": [
        "# Fit model to training data\n",
        "ensemble_com.fit(X_train_combine_df, y_train_combine)\n",
        "\n",
        "\n",
        "# Test our model on the test data\n",
        "score_com = pd.DataFrame(\n",
        "    {'Dataset': ['Combined'], 'Accuracy': [ensemble_com.score(X_test_combine_df, y_test_combine)]}\n",
        ")\n",
        "print(score_com)"
      ],
      "metadata": {
        "id": "orcb8PZjBYhq",
        "colab": {
          "base_uri": "https://localhost:8080/"
        },
        "outputId": "356c4144-a430-4ab1-bcfa-dbed6a57d16d"
      },
      "execution_count": 89,
      "outputs": [
        {
          "output_type": "stream",
          "name": "stdout",
          "text": [
            "    Dataset  Accuracy\n",
            "0  Combined  0.635593\n"
          ]
        }
      ]
    },
    {
      "cell_type": "code",
      "source": [
        "# Test our model on the malaysia test data\n",
        "score_mls = pd.DataFrame(\n",
        "    {'Dataset': ['Malaysia'], 'Accuracy': [ensemble_com.score(X_test_malaysia, y_test_malaysia)]}\n",
        ")\n",
        "print(score_mls)"
      ],
      "metadata": {
        "colab": {
          "base_uri": "https://localhost:8080/"
        },
        "id": "ZAGxnuLkVTeX",
        "outputId": "38dc6ce8-debb-4a15-c3e3-4926e00a5669"
      },
      "execution_count": 90,
      "outputs": [
        {
          "output_type": "stream",
          "name": "stdout",
          "text": [
            "    Dataset  Accuracy\n",
            "0  Malaysia   0.73913\n"
          ]
        }
      ]
    },
    {
      "cell_type": "code",
      "source": [
        "# Test our model on the kerala test data\n",
        "score_kerala = pd.DataFrame(\n",
        "    {'Dataset': ['Kerala'], 'Accuracy': [ensemble_com.score(X_test, y_test)]}\n",
        ")\n",
        "print(score_kerala)"
      ],
      "metadata": {
        "colab": {
          "base_uri": "https://localhost:8080/"
        },
        "id": "hdfVGoJsVeJi",
        "outputId": "cb37a892-d637-4883-9179-8f64e57bfef6"
      },
      "execution_count": 91,
      "outputs": [
        {
          "output_type": "stream",
          "name": "stdout",
          "text": [
            "  Dataset  Accuracy\n",
            "0  Kerala       0.9\n"
          ]
        }
      ]
    },
    {
      "cell_type": "code",
      "source": [
        "scores = cross_val_score(ensemble_com, X_train_combine_df, y_train_combine, cv=5)\n",
        "print(\"CV Accuracy:\", scores.mean())"
      ],
      "metadata": {
        "colab": {
          "base_uri": "https://localhost:8080/"
        },
        "id": "RH3y1EsYhthg",
        "outputId": "7907b936-052d-4552-e33c-b47e11ae41f2"
      },
      "execution_count": 92,
      "outputs": [
        {
          "output_type": "stream",
          "name": "stdout",
          "text": [
            "CV Accuracy: 0.6618419738287884\n"
          ]
        }
      ]
    },
    {
      "cell_type": "code",
      "source": [
        "# Save model to pkl file\n",
        "joblib.dump(ensemble_com, 'ensemble_model.pkl')\n",
        "\n",
        "from google.colab import files\n",
        "files.download('ensemble_model.pkl')"
      ],
      "metadata": {
        "id": "8lHBhPVMNO3L",
        "colab": {
          "base_uri": "https://localhost:8080/",
          "height": 17
        },
        "outputId": "a5daa9ce-6cdc-4753-d11b-1882ad425fb1"
      },
      "execution_count": 93,
      "outputs": [
        {
          "output_type": "display_data",
          "data": {
            "text/plain": [
              "<IPython.core.display.Javascript object>"
            ],
            "application/javascript": [
              "\n",
              "    async function download(id, filename, size) {\n",
              "      if (!google.colab.kernel.accessAllowed) {\n",
              "        return;\n",
              "      }\n",
              "      const div = document.createElement('div');\n",
              "      const label = document.createElement('label');\n",
              "      label.textContent = `Downloading \"${filename}\": `;\n",
              "      div.appendChild(label);\n",
              "      const progress = document.createElement('progress');\n",
              "      progress.max = size;\n",
              "      div.appendChild(progress);\n",
              "      document.body.appendChild(div);\n",
              "\n",
              "      const buffers = [];\n",
              "      let downloaded = 0;\n",
              "\n",
              "      const channel = await google.colab.kernel.comms.open(id);\n",
              "      // Send a message to notify the kernel that we're ready.\n",
              "      channel.send({})\n",
              "\n",
              "      for await (const message of channel.messages) {\n",
              "        // Send a message to notify the kernel that we're ready.\n",
              "        channel.send({})\n",
              "        if (message.buffers) {\n",
              "          for (const buffer of message.buffers) {\n",
              "            buffers.push(buffer);\n",
              "            downloaded += buffer.byteLength;\n",
              "            progress.value = downloaded;\n",
              "          }\n",
              "        }\n",
              "      }\n",
              "      const blob = new Blob(buffers, {type: 'application/binary'});\n",
              "      const a = document.createElement('a');\n",
              "      a.href = window.URL.createObjectURL(blob);\n",
              "      a.download = filename;\n",
              "      div.appendChild(a);\n",
              "      a.click();\n",
              "      div.remove();\n",
              "    }\n",
              "  "
            ]
          },
          "metadata": {}
        },
        {
          "output_type": "display_data",
          "data": {
            "text/plain": [
              "<IPython.core.display.Javascript object>"
            ],
            "application/javascript": [
              "download(\"download_bcf902a1-deb4-4dde-b82f-513a73250af3\", \"ensemble_model.pkl\", 433985)"
            ]
          },
          "metadata": {}
        }
      ]
    },
    {
      "cell_type": "markdown",
      "source": [
        "#Accuracy Comparison"
      ],
      "metadata": {
        "id": "iEXc5hRqOWES"
      }
    },
    {
      "cell_type": "code",
      "source": [
        "models2 = []\n",
        "models2.append(('KNN', KNeighborsClassifier()))\n",
        "models2.append(('LR',lr_model_com ))\n",
        "models2.append(('EL', ensemble_com))\n",
        "\n",
        "namaModel = []\n",
        "hasilModel = []\n",
        "\n",
        "# Train and test the models\n",
        "for name, model2 in models2:\n",
        "    if name == 'LR' or name == 'KNN':  # LR models use standardized data\n",
        "        model2.fit(X_train_combine_scaled, y_train_combine_smote)\n",
        "        y_predict_com = model2.predict(X_test_combine_scaled)\n",
        "    else:\n",
        "        model2.fit(X_train_combine_sc, y_train_combine)\n",
        "        y_predict_com = model2.predict(X_test_combine_scaled)\n",
        "\n",
        "    hasilModel.append(accuracy_score(y_test_combine, y_predict_com))\n",
        "    namaModel.append(name)\n",
        "\n",
        "tr_split_com = pd.DataFrame({'Name': namaModel, 'Score': hasilModel})\n",
        "print(tr_split_com)"
      ],
      "metadata": {
        "colab": {
          "base_uri": "https://localhost:8080/"
        },
        "id": "PGBiNCJXkoEs",
        "outputId": "a17cec13-41dd-40a6-db25-2653d39b4752"
      },
      "execution_count": 94,
      "outputs": [
        {
          "output_type": "stream",
          "name": "stdout",
          "text": [
            "  Name     Score\n",
            "0  KNN  0.656780\n",
            "1   LR  0.559322\n",
            "2   EL  0.635593\n"
          ]
        }
      ]
    },
    {
      "cell_type": "code",
      "source": [
        "# Step 1: Add a label for each dataset\n",
        "tr_split['Dataset'] = 'Kerala'\n",
        "tr_split_mls['Dataset'] = 'Malaysia'\n",
        "tr_split_com['Dataset'] = 'Combined'\n",
        "\n",
        "# Step 2: Combine both into one DataFrame\n",
        "combined_plot = pd.concat([tr_split, tr_split_mls, tr_split_com], ignore_index=True)\n",
        "\n",
        "# Filter to only KNN, LR, and EL\n",
        "combined_plot = combined_plot[combined_plot['Name'].isin(['KNN', 'LR', 'EL'])]\n",
        "\n",
        "combined_plot['Score'] = pd.to_numeric(combined_plot['Score'], errors='coerce')\n",
        "# Optionally drop rows with missing or zero scores\n",
        "combined_plot = combined_plot[combined_plot['Score'] > 0]\n",
        "\n",
        "\n",
        "# Plot\n",
        "plt.figure(figsize=(10, 6))\n",
        "axis = sns.barplot(x='Name', y='Score', hue='Dataset', data=combined_plot, palette='Set2')\n",
        "\n",
        "# Add accuracy labels\n",
        "for p in axis.patches:\n",
        "    height = p.get_height()\n",
        "    if height > 0:\n",
        "        axis.text(\n",
        "            p.get_x() + p.get_width() / 2,\n",
        "            height + 0.01,\n",
        "            '{:.4f}'.format(height),\n",
        "            ha='center',\n",
        "            va='bottom',\n",
        "            fontsize=9\n",
        "        )\n",
        "\n",
        "# Label and formatting\n",
        "axis.set(xlabel='Classifier', ylabel='Accuracy', title='Accuracy Comparison of Top Models')\n",
        "axis.set_ylim(0, 1.05)\n",
        "plt.legend(title='Dataset')\n",
        "plt.tight_layout()\n",
        "plt.show()\n"
      ],
      "metadata": {
        "colab": {
          "base_uri": "https://localhost:8080/",
          "height": 607
        },
        "id": "AGU_EoR-m1EH",
        "outputId": "1f978266-1b56-426d-8e9e-cb0cbc028178"
      },
      "execution_count": 95,
      "outputs": [
        {
          "output_type": "display_data",
          "data": {
            "text/plain": [
              "<Figure size 1000x600 with 1 Axes>"
            ],
            "image/png": "[encoded data removed]"
          },
          "metadata": {}
        }
      ]
    },
    {
      "cell_type": "markdown",
      "source": [
        "From the three models, we will proceed with Ensemble Learning for our flood prediction task. Although the model achieves perfect accuracy on the Kerala dataset, we recognize that the dataset is relatively small, and such results may indicate potential overfitting. Therefore, our decision is based on its performance on the larger Malaysia dataset and the Combined dataset. It shows stable accuracy on the Malaysia data, and the accuracy doesn’t drop much when we combine the datasets, which means it generalizes well and is reliable.\n",
        "\n"
      ],
      "metadata": {
        "id": "ZAxceRylNOc-"
      }
    },
    {
      "cell_type": "code",
      "source": [
        "test_scores = pd.DataFrame({\n",
        "    'Dataset': ['Kerala', 'Malaysia', 'Combined'],\n",
        "    'Accuracy': [\n",
        "        score_kerala['Accuracy'][0],score_mls['Accuracy'][0],score_com['Accuracy'][0]\n",
        "    ]\n",
        "})\n",
        "\n",
        "# Plotting\n",
        "plt.figure(figsize=(7, 5))\n",
        "bars = plt.bar(test_scores['Dataset'], test_scores['Accuracy'], color=['skyblue', 'lightgreen', 'orange'])\n",
        "\n",
        "# Add value labels on top of bars\n",
        "for bar in bars:\n",
        "    yval = bar.get_height()\n",
        "    plt.text(bar.get_x() + bar.get_width()/2.0, yval + 0.01, f'{yval:.2f}', ha='center', va='bottom')\n",
        "\n",
        "plt.ylim(0, 1.05)\n",
        "plt.title('Model Accuracy on Different Test Sets')\n",
        "plt.ylabel('Accuracy')\n",
        "plt.tight_layout()\n",
        "plt.show()"
      ],
      "metadata": {
        "colab": {
          "base_uri": "https://localhost:8080/",
          "height": 507
        },
        "id": "M1LTJKpRKprQ",
        "outputId": "2069a4df-b6da-4a6b-d72c-f7afbafd416a"
      },
      "execution_count": 96,
      "outputs": [
        {
          "output_type": "display_data",
          "data": {
            "text/plain": [
              "<Figure size 700x500 with 1 Axes>"
            ],
            "image/png": "[encoded data removed]"
          },
          "metadata": {}
        }
      ]
    },
    {
      "cell_type": "markdown",
      "source": [
        "The bar chart illustrates the accuracy of the ensemble model across three different test datasets: Kerala, Malaysia, and the Combined dataset. The model trained on diverse dataset but still can perform strongly on each individual region. This means the model can work well even with different types of data."
      ],
      "metadata": {
        "id": "x_xXisqtHcNM"
      }
    }
  ]
}